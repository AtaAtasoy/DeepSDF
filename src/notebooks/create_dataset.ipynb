{
 "cells": [
  {
   "cell_type": "code",
   "execution_count": 11,
   "metadata": {},
   "outputs": [],
   "source": [
    "import sys \n",
    "sys.path.append('..')\n",
    "import warnings\n",
    "warnings.filterwarnings('ignore')"
   ]
  },
  {
   "cell_type": "code",
   "execution_count": 12,
   "metadata": {},
   "outputs": [],
   "source": [
    "from backend.sampler import MeshSampler\n",
    "import trimesh\n",
    "import numpy as np\n",
    "import pandas as pd\n",
    "import shutil\n",
    "import os\n",
    "from tqdm import tqdm_notebook as tqdm"
   ]
  },
  {
   "cell_type": "code",
   "execution_count": 13,
   "metadata": {},
   "outputs": [],
   "source": [
    "DATA_DIR = '../../../../data/abc/obj/'\n",
    "SAVE_DIR = '../../data/abc_data/'\n",
    "MESH_DIR = os.path.join(SAVE_DIR, 'meshes')\n",
    "PCLOUD_DIR = os.path.join(SAVE_DIR, 'pclouds')\n",
    "NORMAL_DIR = os.path.join(SAVE_DIR, 'normals')\n",
    "SDF_DIR = os.path.join(SAVE_DIR, 'sdfs')\n",
    "ORIG_POINTS_DIR = os.path.join(SAVE_DIR, 'orig_points')\n",
    "\n",
    "os.makedirs(MESH_DIR, exist_ok=True)\n",
    "os.makedirs(PCLOUD_DIR, exist_ok=True)\n",
    "os.makedirs(NORMAL_DIR, exist_ok=True)\n",
    "os.makedirs(SDF_DIR, exist_ok=True)\n",
    "os.makedirs(ORIG_POINTS_DIR, exist_ok=True)"
   ]
  },
  {
   "cell_type": "markdown",
   "metadata": {},
   "source": [
    "# Create ShapeNet dataset"
   ]
  },
  {
   "cell_type": "code",
   "execution_count": 4,
   "metadata": {
    "scrolled": false
   },
   "outputs": [],
   "source": [
    "# for synsetId in tqdm(os.listdir(DATA_DIR)[33:]):\n",
    "#     SYNSET_DIR = os.path.join(DATA_DIR, synsetId)\n",
    "#     for i, modelId in enumerate(tqdm(os.listdir(SYNSET_DIR))):\n",
    "#         if i == 5:\n",
    "#             break\n",
    "#         MODEL_DIR = os.path.join(SYNSET_DIR, modelId, 'models')\n",
    "#         MESH = os.path.join(MODEL_DIR, 'model_normalized.obj')\n",
    "        \n",
    "#         sampler = MeshSampler(trimesh.load(MESH))\n",
    "#         sampler.compute_visible_faces()\n",
    "#         sampler.sample_points(n_points=250000)\n",
    "#         correct_mesh_points, correct_sdf = sampler.compute_sdf(sigma=0.0025)\n",
    "        \n",
    "#         SAVE_PATH = os.path.join(SAVE_DIR, synsetId, modelId)\n",
    "#         os.makedirs(SAVE_PATH, exist_ok=True)\n",
    "#         np.save(os.path.join(SAVE_PATH, 'points.npy'), correct_mesh_points)\n",
    "#         np.save(os.path.join(SAVE_PATH, 'sdfs.npy'), correct_sdf)"
   ]
  },
  {
   "cell_type": "markdown",
   "metadata": {},
   "source": [
    "# Create ABC dataset"
   ]
  },
  {
   "cell_type": "code",
   "execution_count": 7,
   "metadata": {},
   "outputs": [],
   "source": [
    "abc_dirs = os.listdir(DATA_DIR)\n",
    "n_samples = 500\n",
    "\n",
    "\n",
    "# from random import randint\n",
    "# indices = []\n",
    "# while len(indices) < 500:\n",
    "#     i = randint(0, len(abc_dirs))\n",
    "#     if i not in indices:\n",
    "#         indices += [i]"
   ]
  },
  {
   "cell_type": "code",
   "execution_count": 8,
   "metadata": {},
   "outputs": [],
   "source": [
    "# np.save('indices.npy', np.array(indices))"
   ]
  },
  {
   "cell_type": "code",
   "execution_count": 9,
   "metadata": {},
   "outputs": [],
   "source": [
    "indices = np.load('indices.npy')"
   ]
  },
  {
   "cell_type": "code",
   "execution_count": 10,
   "metadata": {
    "scrolled": true
   },
   "outputs": [
    {
     "name": "stdout",
     "output_type": "stream",
     "text": [
      "388\n"
     ]
    },
    {
     "data": {
      "application/vnd.jupyter.widget-view+json": {
       "model_id": "afbfb8ddbad545c7912cf55ea6160c9c",
       "version_major": 2,
       "version_minor": 0
      },
      "text/plain": [
       "HBox(children=(IntProgress(value=0, max=500000), HTML(value='')))"
      ]
     },
     "metadata": {},
     "output_type": "display_data"
    },
    {
     "name": "stdout",
     "output_type": "stream",
     "text": [
      "\n",
      "389\n"
     ]
    },
    {
     "data": {
      "application/vnd.jupyter.widget-view+json": {
       "model_id": "9770983d1b884ffd8af5fb6e0b71c009",
       "version_major": 2,
       "version_minor": 0
      },
      "text/plain": [
       "HBox(children=(IntProgress(value=0, max=500000), HTML(value='')))"
      ]
     },
     "metadata": {},
     "output_type": "display_data"
    },
    {
     "name": "stdout",
     "output_type": "stream",
     "text": [
      "\n",
      "390\n"
     ]
    },
    {
     "data": {
      "application/vnd.jupyter.widget-view+json": {
       "model_id": "9614cc0df85e433c83fa2a59daed9236",
       "version_major": 2,
       "version_minor": 0
      },
      "text/plain": [
       "HBox(children=(IntProgress(value=0, max=500000), HTML(value='')))"
      ]
     },
     "metadata": {},
     "output_type": "display_data"
    },
    {
     "name": "stdout",
     "output_type": "stream",
     "text": [
      "\n",
      "393\n"
     ]
    },
    {
     "data": {
      "application/vnd.jupyter.widget-view+json": {
       "model_id": "3624a062ddca4c02be6ce7d3ab05bcb2",
       "version_major": 2,
       "version_minor": 0
      },
      "text/plain": [
       "HBox(children=(IntProgress(value=0, max=500000), HTML(value='')))"
      ]
     },
     "metadata": {},
     "output_type": "display_data"
    },
    {
     "name": "stdout",
     "output_type": "stream",
     "text": [
      "\n",
      "394\n"
     ]
    },
    {
     "data": {
      "application/vnd.jupyter.widget-view+json": {
       "model_id": "0bea2247e954410e928662377bab4bf6",
       "version_major": 2,
       "version_minor": 0
      },
      "text/plain": [
       "HBox(children=(IntProgress(value=0, max=500000), HTML(value='')))"
      ]
     },
     "metadata": {},
     "output_type": "display_data"
    },
    {
     "name": "stdout",
     "output_type": "stream",
     "text": [
      "\n",
      "397\n"
     ]
    },
    {
     "data": {
      "application/vnd.jupyter.widget-view+json": {
       "model_id": "fc3cd89864584e458c4422ecb2e0b3a1",
       "version_major": 2,
       "version_minor": 0
      },
      "text/plain": [
       "HBox(children=(IntProgress(value=0, max=500000), HTML(value='')))"
      ]
     },
     "metadata": {},
     "output_type": "display_data"
    },
    {
     "name": "stdout",
     "output_type": "stream",
     "text": [
      "\n",
      "398\n"
     ]
    },
    {
     "data": {
      "application/vnd.jupyter.widget-view+json": {
       "model_id": "58716b346caf48a697193718476ff3eb",
       "version_major": 2,
       "version_minor": 0
      },
      "text/plain": [
       "HBox(children=(IntProgress(value=0, max=500000), HTML(value='')))"
      ]
     },
     "metadata": {},
     "output_type": "display_data"
    },
    {
     "name": "stdout",
     "output_type": "stream",
     "text": [
      "\n",
      "399\n"
     ]
    },
    {
     "data": {
      "application/vnd.jupyter.widget-view+json": {
       "model_id": "b41791ae42c049d19c8f4ea6524d4f98",
       "version_major": 2,
       "version_minor": 0
      },
      "text/plain": [
       "HBox(children=(IntProgress(value=0, max=500000), HTML(value='')))"
      ]
     },
     "metadata": {},
     "output_type": "display_data"
    },
    {
     "name": "stdout",
     "output_type": "stream",
     "text": [
      "\n",
      "400\n"
     ]
    },
    {
     "data": {
      "application/vnd.jupyter.widget-view+json": {
       "model_id": "5edea905ce1848e99b404f981dd0b008",
       "version_major": 2,
       "version_minor": 0
      },
      "text/plain": [
       "HBox(children=(IntProgress(value=0, max=500000), HTML(value='')))"
      ]
     },
     "metadata": {},
     "output_type": "display_data"
    },
    {
     "name": "stdout",
     "output_type": "stream",
     "text": [
      "\n",
      "401\n"
     ]
    },
    {
     "data": {
      "application/vnd.jupyter.widget-view+json": {
       "model_id": "ec7850b0e094431a8742e5ebae4612a3",
       "version_major": 2,
       "version_minor": 0
      },
      "text/plain": [
       "HBox(children=(IntProgress(value=0, max=500000), HTML(value='')))"
      ]
     },
     "metadata": {},
     "output_type": "display_data"
    },
    {
     "name": "stdout",
     "output_type": "stream",
     "text": [
      "\n",
      "402\n"
     ]
    },
    {
     "data": {
      "application/vnd.jupyter.widget-view+json": {
       "model_id": "e269cd282263455f9859b61694f3719c",
       "version_major": 2,
       "version_minor": 0
      },
      "text/plain": [
       "HBox(children=(IntProgress(value=0, max=500000), HTML(value='')))"
      ]
     },
     "metadata": {},
     "output_type": "display_data"
    },
    {
     "name": "stdout",
     "output_type": "stream",
     "text": [
      "\n",
      "403\n"
     ]
    },
    {
     "data": {
      "application/vnd.jupyter.widget-view+json": {
       "model_id": "0b63fae7c0c84e5483626e3c81f28507",
       "version_major": 2,
       "version_minor": 0
      },
      "text/plain": [
       "HBox(children=(IntProgress(value=0, max=500000), HTML(value='')))"
      ]
     },
     "metadata": {},
     "output_type": "display_data"
    },
    {
     "name": "stdout",
     "output_type": "stream",
     "text": [
      "\n",
      "404\n"
     ]
    },
    {
     "data": {
      "application/vnd.jupyter.widget-view+json": {
       "model_id": "86e14a28cfc141a5893d5b3082ed6ea6",
       "version_major": 2,
       "version_minor": 0
      },
      "text/plain": [
       "HBox(children=(IntProgress(value=0, max=500000), HTML(value='')))"
      ]
     },
     "metadata": {},
     "output_type": "display_data"
    },
    {
     "name": "stdout",
     "output_type": "stream",
     "text": [
      "\n",
      "405\n"
     ]
    },
    {
     "data": {
      "application/vnd.jupyter.widget-view+json": {
       "model_id": "e1a9e60948aa4d5498a39d42b8c0083c",
       "version_major": 2,
       "version_minor": 0
      },
      "text/plain": [
       "HBox(children=(IntProgress(value=0, max=500000), HTML(value='')))"
      ]
     },
     "metadata": {},
     "output_type": "display_data"
    },
    {
     "name": "stdout",
     "output_type": "stream",
     "text": [
      "\n",
      "406\n"
     ]
    },
    {
     "data": {
      "application/vnd.jupyter.widget-view+json": {
       "model_id": "844eeeadbdf6493a991e932d08808a82",
       "version_major": 2,
       "version_minor": 0
      },
      "text/plain": [
       "HBox(children=(IntProgress(value=0, max=500000), HTML(value='')))"
      ]
     },
     "metadata": {},
     "output_type": "display_data"
    },
    {
     "name": "stdout",
     "output_type": "stream",
     "text": [
      "\n",
      "407\n"
     ]
    },
    {
     "data": {
      "application/vnd.jupyter.widget-view+json": {
       "model_id": "dc536f85bdfe481cac6ef68b5ecd32a8",
       "version_major": 2,
       "version_minor": 0
      },
      "text/plain": [
       "HBox(children=(IntProgress(value=0, max=500000), HTML(value='')))"
      ]
     },
     "metadata": {},
     "output_type": "display_data"
    },
    {
     "name": "stdout",
     "output_type": "stream",
     "text": [
      "\n",
      "408\n"
     ]
    },
    {
     "data": {
      "application/vnd.jupyter.widget-view+json": {
       "model_id": "575b0bf26fd847218823d15deb7b7508",
       "version_major": 2,
       "version_minor": 0
      },
      "text/plain": [
       "HBox(children=(IntProgress(value=0, max=500000), HTML(value='')))"
      ]
     },
     "metadata": {},
     "output_type": "display_data"
    },
    {
     "name": "stdout",
     "output_type": "stream",
     "text": [
      "\n",
      "409\n"
     ]
    },
    {
     "data": {
      "application/vnd.jupyter.widget-view+json": {
       "model_id": "6509d34d716a4d0ba5c6a944b8e97c07",
       "version_major": 2,
       "version_minor": 0
      },
      "text/plain": [
       "HBox(children=(IntProgress(value=0, max=500000), HTML(value='')))"
      ]
     },
     "metadata": {},
     "output_type": "display_data"
    },
    {
     "name": "stdout",
     "output_type": "stream",
     "text": [
      "\n",
      "410\n"
     ]
    },
    {
     "data": {
      "application/vnd.jupyter.widget-view+json": {
       "model_id": "ec6b5684687d4824bf55c06b87c4b4a7",
       "version_major": 2,
       "version_minor": 0
      },
      "text/plain": [
       "HBox(children=(IntProgress(value=0, max=500000), HTML(value='')))"
      ]
     },
     "metadata": {},
     "output_type": "display_data"
    },
    {
     "name": "stdout",
     "output_type": "stream",
     "text": [
      "\n",
      "411\n"
     ]
    },
    {
     "data": {
      "application/vnd.jupyter.widget-view+json": {
       "model_id": "3bc1473deb864a8ea532d7d78f37ba8a",
       "version_major": 2,
       "version_minor": 0
      },
      "text/plain": [
       "HBox(children=(IntProgress(value=0, max=500000), HTML(value='')))"
      ]
     },
     "metadata": {},
     "output_type": "display_data"
    },
    {
     "name": "stdout",
     "output_type": "stream",
     "text": [
      "\n",
      "412\n"
     ]
    },
    {
     "data": {
      "application/vnd.jupyter.widget-view+json": {
       "model_id": "6d223e8c2b2f4bd4831f67662640808a",
       "version_major": 2,
       "version_minor": 0
      },
      "text/plain": [
       "HBox(children=(IntProgress(value=0, max=500000), HTML(value='')))"
      ]
     },
     "metadata": {},
     "output_type": "display_data"
    },
    {
     "name": "stdout",
     "output_type": "stream",
     "text": [
      "\n",
      "413\n"
     ]
    },
    {
     "data": {
      "application/vnd.jupyter.widget-view+json": {
       "model_id": "5481ac14713949f2a745d9bcc2758735",
       "version_major": 2,
       "version_minor": 0
      },
      "text/plain": [
       "HBox(children=(IntProgress(value=0, max=500000), HTML(value='')))"
      ]
     },
     "metadata": {},
     "output_type": "display_data"
    },
    {
     "name": "stdout",
     "output_type": "stream",
     "text": [
      "\n",
      "414\n"
     ]
    },
    {
     "data": {
      "application/vnd.jupyter.widget-view+json": {
       "model_id": "b6323a52631c42da9b1d23c41c7c5142",
       "version_major": 2,
       "version_minor": 0
      },
      "text/plain": [
       "HBox(children=(IntProgress(value=0, max=500000), HTML(value='')))"
      ]
     },
     "metadata": {},
     "output_type": "display_data"
    },
    {
     "name": "stdout",
     "output_type": "stream",
     "text": [
      "\n",
      "415\n"
     ]
    },
    {
     "data": {
      "application/vnd.jupyter.widget-view+json": {
       "model_id": "cb3158c8123e469c921d4281d2205382",
       "version_major": 2,
       "version_minor": 0
      },
      "text/plain": [
       "HBox(children=(IntProgress(value=0, max=500000), HTML(value='')))"
      ]
     },
     "metadata": {},
     "output_type": "display_data"
    },
    {
     "name": "stdout",
     "output_type": "stream",
     "text": [
      "\n",
      "416\n"
     ]
    },
    {
     "data": {
      "application/vnd.jupyter.widget-view+json": {
       "model_id": "6bb5bb18d488441488c6bdb2b466dd80",
       "version_major": 2,
       "version_minor": 0
      },
      "text/plain": [
       "HBox(children=(IntProgress(value=0, max=500000), HTML(value='')))"
      ]
     },
     "metadata": {},
     "output_type": "display_data"
    },
    {
     "name": "stdout",
     "output_type": "stream",
     "text": [
      "\n",
      "417\n"
     ]
    },
    {
     "data": {
      "application/vnd.jupyter.widget-view+json": {
       "model_id": "804b7a95d8e84c27a4729192e7e16279",
       "version_major": 2,
       "version_minor": 0
      },
      "text/plain": [
       "HBox(children=(IntProgress(value=0, max=500000), HTML(value='')))"
      ]
     },
     "metadata": {},
     "output_type": "display_data"
    },
    {
     "name": "stdout",
     "output_type": "stream",
     "text": [
      "\n",
      "418\n"
     ]
    },
    {
     "data": {
      "application/vnd.jupyter.widget-view+json": {
       "model_id": "055bb14baee6429eb48960a5078b3dd3",
       "version_major": 2,
       "version_minor": 0
      },
      "text/plain": [
       "HBox(children=(IntProgress(value=0, max=500000), HTML(value='')))"
      ]
     },
     "metadata": {},
     "output_type": "display_data"
    },
    {
     "name": "stdout",
     "output_type": "stream",
     "text": [
      "\n",
      "419\n"
     ]
    },
    {
     "data": {
      "application/vnd.jupyter.widget-view+json": {
       "model_id": "ef3ef6b027324d6d860e73269aa7bc0c",
       "version_major": 2,
       "version_minor": 0
      },
      "text/plain": [
       "HBox(children=(IntProgress(value=0, max=500000), HTML(value='')))"
      ]
     },
     "metadata": {},
     "output_type": "display_data"
    },
    {
     "name": "stdout",
     "output_type": "stream",
     "text": [
      "\n",
      "420\n"
     ]
    },
    {
     "data": {
      "application/vnd.jupyter.widget-view+json": {
       "model_id": "ce453b6790f2487299621a8c997b3491",
       "version_major": 2,
       "version_minor": 0
      },
      "text/plain": [
       "HBox(children=(IntProgress(value=0, max=500000), HTML(value='')))"
      ]
     },
     "metadata": {},
     "output_type": "display_data"
    },
    {
     "name": "stdout",
     "output_type": "stream",
     "text": [
      "\n",
      "421\n"
     ]
    },
    {
     "data": {
      "application/vnd.jupyter.widget-view+json": {
       "model_id": "b302bf4419cb41a88b4a6a83a04b078d",
       "version_major": 2,
       "version_minor": 0
      },
      "text/plain": [
       "HBox(children=(IntProgress(value=0, max=500000), HTML(value='')))"
      ]
     },
     "metadata": {},
     "output_type": "display_data"
    },
    {
     "name": "stdout",
     "output_type": "stream",
     "text": [
      "\n",
      "422\n"
     ]
    },
    {
     "data": {
      "application/vnd.jupyter.widget-view+json": {
       "model_id": "eb9ea6dfd9ed461e9c5a1971235dcffe",
       "version_major": 2,
       "version_minor": 0
      },
      "text/plain": [
       "HBox(children=(IntProgress(value=0, max=500000), HTML(value='')))"
      ]
     },
     "metadata": {},
     "output_type": "display_data"
    },
    {
     "name": "stdout",
     "output_type": "stream",
     "text": [
      "\n",
      "423\n"
     ]
    },
    {
     "data": {
      "application/vnd.jupyter.widget-view+json": {
       "model_id": "14a0ea9c21ef48cdb7f8f00604072443",
       "version_major": 2,
       "version_minor": 0
      },
      "text/plain": [
       "HBox(children=(IntProgress(value=0, max=500000), HTML(value='')))"
      ]
     },
     "metadata": {},
     "output_type": "display_data"
    },
    {
     "name": "stdout",
     "output_type": "stream",
     "text": [
      "\n",
      "424\n"
     ]
    },
    {
     "data": {
      "application/vnd.jupyter.widget-view+json": {
       "model_id": "79f516b50f064c7c8e1dc7d12be69030",
       "version_major": 2,
       "version_minor": 0
      },
      "text/plain": [
       "HBox(children=(IntProgress(value=0, max=500000), HTML(value='')))"
      ]
     },
     "metadata": {},
     "output_type": "display_data"
    },
    {
     "name": "stdout",
     "output_type": "stream",
     "text": [
      "\n",
      "425\n"
     ]
    },
    {
     "data": {
      "application/vnd.jupyter.widget-view+json": {
       "model_id": "ad10abfe77414811be0b0db777e35253",
       "version_major": 2,
       "version_minor": 0
      },
      "text/plain": [
       "HBox(children=(IntProgress(value=0, max=500000), HTML(value='')))"
      ]
     },
     "metadata": {},
     "output_type": "display_data"
    },
    {
     "name": "stdout",
     "output_type": "stream",
     "text": [
      "\n",
      "426\n"
     ]
    },
    {
     "data": {
      "application/vnd.jupyter.widget-view+json": {
       "model_id": "d6b66e4009e140479c34a7c2aa646d9d",
       "version_major": 2,
       "version_minor": 0
      },
      "text/plain": [
       "HBox(children=(IntProgress(value=0, max=500000), HTML(value='')))"
      ]
     },
     "metadata": {},
     "output_type": "display_data"
    },
    {
     "name": "stdout",
     "output_type": "stream",
     "text": [
      "\n",
      "427\n"
     ]
    },
    {
     "data": {
      "application/vnd.jupyter.widget-view+json": {
       "model_id": "e11d5dd107c54c1ba4f59ce252fbe855",
       "version_major": 2,
       "version_minor": 0
      },
      "text/plain": [
       "HBox(children=(IntProgress(value=0, max=500000), HTML(value='')))"
      ]
     },
     "metadata": {},
     "output_type": "display_data"
    },
    {
     "name": "stdout",
     "output_type": "stream",
     "text": [
      "\n",
      "428\n"
     ]
    },
    {
     "data": {
      "application/vnd.jupyter.widget-view+json": {
       "model_id": "1ed748f4794f497fba135a12d2d788d4",
       "version_major": 2,
       "version_minor": 0
      },
      "text/plain": [
       "HBox(children=(IntProgress(value=0, max=500000), HTML(value='')))"
      ]
     },
     "metadata": {},
     "output_type": "display_data"
    },
    {
     "name": "stdout",
     "output_type": "stream",
     "text": [
      "\n",
      "429\n"
     ]
    },
    {
     "data": {
      "application/vnd.jupyter.widget-view+json": {
       "model_id": "2209685821634acd8f08414cdec7b481",
       "version_major": 2,
       "version_minor": 0
      },
      "text/plain": [
       "HBox(children=(IntProgress(value=0, max=500000), HTML(value='')))"
      ]
     },
     "metadata": {},
     "output_type": "display_data"
    },
    {
     "name": "stdout",
     "output_type": "stream",
     "text": [
      "\n",
      "430\n"
     ]
    },
    {
     "data": {
      "application/vnd.jupyter.widget-view+json": {
       "model_id": "110e1cdfec93459f8ff9358cbba60e16",
       "version_major": 2,
       "version_minor": 0
      },
      "text/plain": [
       "HBox(children=(IntProgress(value=0, max=500000), HTML(value='')))"
      ]
     },
     "metadata": {},
     "output_type": "display_data"
    },
    {
     "name": "stdout",
     "output_type": "stream",
     "text": [
      "\n",
      "431\n"
     ]
    },
    {
     "data": {
      "application/vnd.jupyter.widget-view+json": {
       "model_id": "fedc9ac008444daabb42b2018c8f3261",
       "version_major": 2,
       "version_minor": 0
      },
      "text/plain": [
       "HBox(children=(IntProgress(value=0, max=500000), HTML(value='')))"
      ]
     },
     "metadata": {},
     "output_type": "display_data"
    },
    {
     "name": "stdout",
     "output_type": "stream",
     "text": [
      "\n",
      "432\n"
     ]
    },
    {
     "data": {
      "application/vnd.jupyter.widget-view+json": {
       "model_id": "538b166d33c64474801dc1eaa60efeff",
       "version_major": 2,
       "version_minor": 0
      },
      "text/plain": [
       "HBox(children=(IntProgress(value=0, max=500000), HTML(value='')))"
      ]
     },
     "metadata": {},
     "output_type": "display_data"
    },
    {
     "name": "stdout",
     "output_type": "stream",
     "text": [
      "\n",
      "433\n"
     ]
    },
    {
     "data": {
      "application/vnd.jupyter.widget-view+json": {
       "model_id": "38311a39649e464ab805f8d0f3709949",
       "version_major": 2,
       "version_minor": 0
      },
      "text/plain": [
       "HBox(children=(IntProgress(value=0, max=500000), HTML(value='')))"
      ]
     },
     "metadata": {},
     "output_type": "display_data"
    },
    {
     "name": "stdout",
     "output_type": "stream",
     "text": [
      "\n",
      "434\n"
     ]
    },
    {
     "data": {
      "application/vnd.jupyter.widget-view+json": {
       "model_id": "c112c712f09b4518ad13a973ef9b28b4",
       "version_major": 2,
       "version_minor": 0
      },
      "text/plain": [
       "HBox(children=(IntProgress(value=0, max=500000), HTML(value='')))"
      ]
     },
     "metadata": {},
     "output_type": "display_data"
    },
    {
     "name": "stdout",
     "output_type": "stream",
     "text": [
      "\n",
      "435\n"
     ]
    },
    {
     "data": {
      "application/vnd.jupyter.widget-view+json": {
       "model_id": "cdf557cd03674e049db1f51df055f551",
       "version_major": 2,
       "version_minor": 0
      },
      "text/plain": [
       "HBox(children=(IntProgress(value=0, max=500000), HTML(value='')))"
      ]
     },
     "metadata": {},
     "output_type": "display_data"
    },
    {
     "name": "stdout",
     "output_type": "stream",
     "text": [
      "\n",
      "436\n"
     ]
    },
    {
     "data": {
      "application/vnd.jupyter.widget-view+json": {
       "model_id": "f97ddc5b129a4f26a4268eacf2ab28a3",
       "version_major": 2,
       "version_minor": 0
      },
      "text/plain": [
       "HBox(children=(IntProgress(value=0, max=500000), HTML(value='')))"
      ]
     },
     "metadata": {},
     "output_type": "display_data"
    },
    {
     "name": "stdout",
     "output_type": "stream",
     "text": [
      "\n",
      "437\n"
     ]
    },
    {
     "data": {
      "application/vnd.jupyter.widget-view+json": {
       "model_id": "a782e0403cd74d59a73d98a9efcbbfd1",
       "version_major": 2,
       "version_minor": 0
      },
      "text/plain": [
       "HBox(children=(IntProgress(value=0, max=500000), HTML(value='')))"
      ]
     },
     "metadata": {},
     "output_type": "display_data"
    },
    {
     "name": "stdout",
     "output_type": "stream",
     "text": [
      "\n",
      "438\n"
     ]
    },
    {
     "data": {
      "application/vnd.jupyter.widget-view+json": {
       "model_id": "da637aa3ce584b82a4404ee3d4f70fd1",
       "version_major": 2,
       "version_minor": 0
      },
      "text/plain": [
       "HBox(children=(IntProgress(value=0, max=500000), HTML(value='')))"
      ]
     },
     "metadata": {},
     "output_type": "display_data"
    },
    {
     "name": "stdout",
     "output_type": "stream",
     "text": [
      "\n",
      "439\n"
     ]
    },
    {
     "data": {
      "application/vnd.jupyter.widget-view+json": {
       "model_id": "9f7e20dee67d42d183358aa1aa722f99",
       "version_major": 2,
       "version_minor": 0
      },
      "text/plain": [
       "HBox(children=(IntProgress(value=0, max=500000), HTML(value='')))"
      ]
     },
     "metadata": {},
     "output_type": "display_data"
    },
    {
     "name": "stdout",
     "output_type": "stream",
     "text": [
      "\n",
      "440\n"
     ]
    },
    {
     "data": {
      "application/vnd.jupyter.widget-view+json": {
       "model_id": "a6d848a593cf4828b0bd62fffd7352cd",
       "version_major": 2,
       "version_minor": 0
      },
      "text/plain": [
       "HBox(children=(IntProgress(value=0, max=500000), HTML(value='')))"
      ]
     },
     "metadata": {},
     "output_type": "display_data"
    },
    {
     "name": "stdout",
     "output_type": "stream",
     "text": [
      "\n",
      "441\n"
     ]
    },
    {
     "data": {
      "application/vnd.jupyter.widget-view+json": {
       "model_id": "6a3cbe70139d4d6da3afc351acc60b1e",
       "version_major": 2,
       "version_minor": 0
      },
      "text/plain": [
       "HBox(children=(IntProgress(value=0, max=500000), HTML(value='')))"
      ]
     },
     "metadata": {},
     "output_type": "display_data"
    },
    {
     "name": "stdout",
     "output_type": "stream",
     "text": [
      "\n",
      "442\n"
     ]
    },
    {
     "data": {
      "application/vnd.jupyter.widget-view+json": {
       "model_id": "34eaf6dc652d4303985d5534647bb344",
       "version_major": 2,
       "version_minor": 0
      },
      "text/plain": [
       "HBox(children=(IntProgress(value=0, max=500000), HTML(value='')))"
      ]
     },
     "metadata": {},
     "output_type": "display_data"
    },
    {
     "name": "stdout",
     "output_type": "stream",
     "text": [
      "\n",
      "443\n"
     ]
    },
    {
     "data": {
      "application/vnd.jupyter.widget-view+json": {
       "model_id": "f874c1c1a45343f3b41f296fc01d4d74",
       "version_major": 2,
       "version_minor": 0
      },
      "text/plain": [
       "HBox(children=(IntProgress(value=0, max=500000), HTML(value='')))"
      ]
     },
     "metadata": {},
     "output_type": "display_data"
    },
    {
     "name": "stdout",
     "output_type": "stream",
     "text": [
      "\n",
      "444\n"
     ]
    },
    {
     "data": {
      "application/vnd.jupyter.widget-view+json": {
       "model_id": "5d1ffb1bf6cc466fbbada54265ad77fe",
       "version_major": 2,
       "version_minor": 0
      },
      "text/plain": [
       "HBox(children=(IntProgress(value=0, max=500000), HTML(value='')))"
      ]
     },
     "metadata": {},
     "output_type": "display_data"
    },
    {
     "name": "stdout",
     "output_type": "stream",
     "text": [
      "\n",
      "445\n"
     ]
    },
    {
     "data": {
      "application/vnd.jupyter.widget-view+json": {
       "model_id": "d4d7f9852187499a8924dedeed6de03f",
       "version_major": 2,
       "version_minor": 0
      },
      "text/plain": [
       "HBox(children=(IntProgress(value=0, max=500000), HTML(value='')))"
      ]
     },
     "metadata": {},
     "output_type": "display_data"
    },
    {
     "name": "stdout",
     "output_type": "stream",
     "text": [
      "\n",
      "446\n"
     ]
    },
    {
     "data": {
      "application/vnd.jupyter.widget-view+json": {
       "model_id": "ffbb43a989a4476384cefafa33c7c053",
       "version_major": 2,
       "version_minor": 0
      },
      "text/plain": [
       "HBox(children=(IntProgress(value=0, max=500000), HTML(value='')))"
      ]
     },
     "metadata": {},
     "output_type": "display_data"
    },
    {
     "name": "stderr",
     "output_type": "stream",
     "text": [
      "IOPub message rate exceeded.\n",
      "The notebook server will temporarily stop sending output\n",
      "to the client in order to avoid crashing it.\n",
      "To change this limit, set the config variable\n",
      "`--NotebookApp.iopub_msg_rate_limit`.\n",
      "\n",
      "Current values:\n",
      "NotebookApp.iopub_msg_rate_limit=1000.0 (msgs/sec)\n",
      "NotebookApp.rate_limit_window=3.0 (secs)\n",
      "\n"
     ]
    },
    {
     "data": {
      "application/vnd.jupyter.widget-view+json": {
       "model_id": "9e6f820767fa41549a732f3b9831d474",
       "version_major": 2,
       "version_minor": 0
      },
      "text/plain": [
       "HBox(children=(IntProgress(value=0, max=500000), HTML(value='')))"
      ]
     },
     "metadata": {},
     "output_type": "display_data"
    },
    {
     "name": "stdout",
     "output_type": "stream",
     "text": [
      "\n",
      "485\n"
     ]
    },
    {
     "data": {
      "application/vnd.jupyter.widget-view+json": {
       "model_id": "bcc28ff836fe43b5b7298cad409d2fe2",
       "version_major": 2,
       "version_minor": 0
      },
      "text/plain": [
       "HBox(children=(IntProgress(value=0, max=500000), HTML(value='')))"
      ]
     },
     "metadata": {},
     "output_type": "display_data"
    },
    {
     "name": "stdout",
     "output_type": "stream",
     "text": [
      "\n",
      "486\n"
     ]
    },
    {
     "data": {
      "application/vnd.jupyter.widget-view+json": {
       "model_id": "942a51201eac4622aa5ac1fa1074430d",
       "version_major": 2,
       "version_minor": 0
      },
      "text/plain": [
       "HBox(children=(IntProgress(value=0, max=500000), HTML(value='')))"
      ]
     },
     "metadata": {},
     "output_type": "display_data"
    },
    {
     "name": "stdout",
     "output_type": "stream",
     "text": [
      "\n",
      "487\n"
     ]
    },
    {
     "data": {
      "application/vnd.jupyter.widget-view+json": {
       "model_id": "e8e3d202da0d443bb0bf94962dc4b0d5",
       "version_major": 2,
       "version_minor": 0
      },
      "text/plain": [
       "HBox(children=(IntProgress(value=0, max=500000), HTML(value='')))"
      ]
     },
     "metadata": {},
     "output_type": "display_data"
    },
    {
     "name": "stdout",
     "output_type": "stream",
     "text": [
      "\n",
      "488\n"
     ]
    },
    {
     "data": {
      "application/vnd.jupyter.widget-view+json": {
       "model_id": "bc34ae0586f24b9e866a13e2a72a1dd4",
       "version_major": 2,
       "version_minor": 0
      },
      "text/plain": [
       "HBox(children=(IntProgress(value=0, max=500000), HTML(value='')))"
      ]
     },
     "metadata": {},
     "output_type": "display_data"
    },
    {
     "name": "stdout",
     "output_type": "stream",
     "text": [
      "\n",
      "489\n"
     ]
    },
    {
     "data": {
      "application/vnd.jupyter.widget-view+json": {
       "model_id": "2ea44c9e8c8a476db1487cc8857e2dca",
       "version_major": 2,
       "version_minor": 0
      },
      "text/plain": [
       "HBox(children=(IntProgress(value=0, max=500000), HTML(value='')))"
      ]
     },
     "metadata": {},
     "output_type": "display_data"
    },
    {
     "name": "stdout",
     "output_type": "stream",
     "text": [
      "\n",
      "490\n"
     ]
    },
    {
     "data": {
      "application/vnd.jupyter.widget-view+json": {
       "model_id": "d312be32197a4b69b0eb70f14a076c28",
       "version_major": 2,
       "version_minor": 0
      },
      "text/plain": [
       "HBox(children=(IntProgress(value=0, max=500000), HTML(value='')))"
      ]
     },
     "metadata": {},
     "output_type": "display_data"
    },
    {
     "name": "stdout",
     "output_type": "stream",
     "text": [
      "\n",
      "491\n"
     ]
    },
    {
     "data": {
      "application/vnd.jupyter.widget-view+json": {
       "model_id": "04b0689c5b8441c289c0177f932aa4ea",
       "version_major": 2,
       "version_minor": 0
      },
      "text/plain": [
       "HBox(children=(IntProgress(value=0, max=500000), HTML(value='')))"
      ]
     },
     "metadata": {},
     "output_type": "display_data"
    },
    {
     "name": "stdout",
     "output_type": "stream",
     "text": [
      "\n",
      "492\n"
     ]
    },
    {
     "data": {
      "application/vnd.jupyter.widget-view+json": {
       "model_id": "7d94eaccd9454d948fd19056674071ee",
       "version_major": 2,
       "version_minor": 0
      },
      "text/plain": [
       "HBox(children=(IntProgress(value=0, max=500000), HTML(value='')))"
      ]
     },
     "metadata": {},
     "output_type": "display_data"
    },
    {
     "name": "stdout",
     "output_type": "stream",
     "text": [
      "\n",
      "493\n"
     ]
    },
    {
     "data": {
      "application/vnd.jupyter.widget-view+json": {
       "model_id": "de6c5b6558c74b0ca8044337d66be357",
       "version_major": 2,
       "version_minor": 0
      },
      "text/plain": [
       "HBox(children=(IntProgress(value=0, max=500000), HTML(value='')))"
      ]
     },
     "metadata": {},
     "output_type": "display_data"
    },
    {
     "name": "stdout",
     "output_type": "stream",
     "text": [
      "\n",
      "494\n"
     ]
    },
    {
     "data": {
      "application/vnd.jupyter.widget-view+json": {
       "model_id": "74da48a53df34302a308d548ab7e0f92",
       "version_major": 2,
       "version_minor": 0
      },
      "text/plain": [
       "HBox(children=(IntProgress(value=0, max=500000), HTML(value='')))"
      ]
     },
     "metadata": {},
     "output_type": "display_data"
    },
    {
     "name": "stdout",
     "output_type": "stream",
     "text": [
      "\n",
      "495\n"
     ]
    },
    {
     "data": {
      "application/vnd.jupyter.widget-view+json": {
       "model_id": "181d33937a2249ffaa51a60d9a3cbee9",
       "version_major": 2,
       "version_minor": 0
      },
      "text/plain": [
       "HBox(children=(IntProgress(value=0, max=500000), HTML(value='')))"
      ]
     },
     "metadata": {},
     "output_type": "display_data"
    },
    {
     "name": "stdout",
     "output_type": "stream",
     "text": [
      "\n",
      "496\n"
     ]
    },
    {
     "data": {
      "application/vnd.jupyter.widget-view+json": {
       "model_id": "38a89323cded4797b69d9ba3bee7da07",
       "version_major": 2,
       "version_minor": 0
      },
      "text/plain": [
       "HBox(children=(IntProgress(value=0, max=500000), HTML(value='')))"
      ]
     },
     "metadata": {},
     "output_type": "display_data"
    },
    {
     "name": "stdout",
     "output_type": "stream",
     "text": [
      "\n",
      "497\n"
     ]
    },
    {
     "data": {
      "application/vnd.jupyter.widget-view+json": {
       "model_id": "08a59e64685549fbbffa2e720aafe0d1",
       "version_major": 2,
       "version_minor": 0
      },
      "text/plain": [
       "HBox(children=(IntProgress(value=0, max=500000), HTML(value='')))"
      ]
     },
     "metadata": {},
     "output_type": "display_data"
    },
    {
     "name": "stdout",
     "output_type": "stream",
     "text": [
      "\n",
      "498\n"
     ]
    },
    {
     "data": {
      "application/vnd.jupyter.widget-view+json": {
       "model_id": "34330df4ef3b4e759706b2217e0ffb12",
       "version_major": 2,
       "version_minor": 0
      },
      "text/plain": [
       "HBox(children=(IntProgress(value=0, max=500000), HTML(value='')))"
      ]
     },
     "metadata": {},
     "output_type": "display_data"
    },
    {
     "name": "stdout",
     "output_type": "stream",
     "text": [
      "\n",
      "499\n"
     ]
    },
    {
     "data": {
      "application/vnd.jupyter.widget-view+json": {
       "model_id": "d6311a131c8c4360885711079e16095e",
       "version_major": 2,
       "version_minor": 0
      },
      "text/plain": [
       "HBox(children=(IntProgress(value=0, max=500000), HTML(value='')))"
      ]
     },
     "metadata": {},
     "output_type": "display_data"
    },
    {
     "name": "stdout",
     "output_type": "stream",
     "text": [
      "\n"
     ]
    }
   ],
   "source": [
    "i = 388\n",
    "while i < 500:\n",
    "    print(i)\n",
    "    index = indices[i]\n",
    "    MESH = os.path.join(DATA_DIR, abc_dirs[index])\n",
    "\n",
    "    sampler = MeshSampler(trimesh.load(MESH), check_faces=False)\n",
    "    points = sampler.sample_points(n_points=500000)\n",
    "    noisy_points, sdf, normals = sampler.compute_sdf(sigma=1.0)\n",
    "\n",
    "    np.save(os.path.join(PCLOUD_DIR, str(i)+'.npy'), noisy_points)\n",
    "    np.save(os.path.join(SDF_DIR, str(i)+'.npy'), sdf)\n",
    "    np.save(os.path.join(NORMAL_DIR, str(i)+'.npy'), normals)\n",
    "    np.save(os.path.join(ORIG_POINTS_DIR, str(i)+'.npy'), points)\n",
    "    shutil.copy(MESH, os.path.join(MESH_DIR, str(i)+'.obj'))\n",
    "    i += 1"
   ]
  },
  {
   "cell_type": "code",
   "execution_count": 15,
   "metadata": {},
   "outputs": [],
   "source": [
    "data_pd = {'pclouds': [],\n",
    "           'sdfs': [],\n",
    "           'normals': [],\n",
    "           'orig_points': [],\n",
    "           'meshes': []}\n",
    "for file in sorted(os.listdir(PCLOUD_DIR)):\n",
    "    data_pd['pclouds'] += [os.path.join(PCLOUD_DIR, file)]\n",
    "for file in sorted(os.listdir(SDF_DIR)):\n",
    "    data_pd['sdfs'] += [os.path.join(SDF_DIR, file)]\n",
    "for file in sorted(os.listdir(NORMAL_DIR)):\n",
    "    data_pd['normals'] += [os.path.join(NORMAL_DIR, file)]\n",
    "for file in sorted(os.listdir(ORIG_POINTS_DIR)):\n",
    "    data_pd['orig_points'] += [os.path.join(ORIG_POINTS_DIR, file)]\n",
    "for file in sorted(os.listdir(MESH_DIR)):\n",
    "    data_pd['meshes'] += [os.path.join(MESH_DIR, file)]\n",
    "\n",
    "df = pd.DataFrame.from_dict(data_pd)"
   ]
  },
  {
   "cell_type": "code",
   "execution_count": 16,
   "metadata": {},
   "outputs": [
    {
     "data": {
      "text/html": [
       "<div>\n",
       "<style scoped>\n",
       "    .dataframe tbody tr th:only-of-type {\n",
       "        vertical-align: middle;\n",
       "    }\n",
       "\n",
       "    .dataframe tbody tr th {\n",
       "        vertical-align: top;\n",
       "    }\n",
       "\n",
       "    .dataframe thead th {\n",
       "        text-align: right;\n",
       "    }\n",
       "</style>\n",
       "<table border=\"1\" class=\"dataframe\">\n",
       "  <thead>\n",
       "    <tr style=\"text-align: right;\">\n",
       "      <th></th>\n",
       "      <th>pclouds</th>\n",
       "      <th>sdfs</th>\n",
       "      <th>normals</th>\n",
       "      <th>orig_points</th>\n",
       "      <th>meshes</th>\n",
       "    </tr>\n",
       "  </thead>\n",
       "  <tbody>\n",
       "    <tr>\n",
       "      <th>0</th>\n",
       "      <td>../../data/abc_data/pclouds/0.npy</td>\n",
       "      <td>../../data/abc_data/sdfs/0.npy</td>\n",
       "      <td>../../data/abc_data/normals/0.npy</td>\n",
       "      <td>../../data/abc_data/orig_points/0.npy</td>\n",
       "      <td>../../data/abc_data/meshes/0.obj</td>\n",
       "    </tr>\n",
       "    <tr>\n",
       "      <th>1</th>\n",
       "      <td>../../data/abc_data/pclouds/1.npy</td>\n",
       "      <td>../../data/abc_data/sdfs/1.npy</td>\n",
       "      <td>../../data/abc_data/normals/1.npy</td>\n",
       "      <td>../../data/abc_data/orig_points/1.npy</td>\n",
       "      <td>../../data/abc_data/meshes/1.obj</td>\n",
       "    </tr>\n",
       "    <tr>\n",
       "      <th>2</th>\n",
       "      <td>../../data/abc_data/pclouds/10.npy</td>\n",
       "      <td>../../data/abc_data/sdfs/10.npy</td>\n",
       "      <td>../../data/abc_data/normals/10.npy</td>\n",
       "      <td>../../data/abc_data/orig_points/10.npy</td>\n",
       "      <td>../../data/abc_data/meshes/10.obj</td>\n",
       "    </tr>\n",
       "    <tr>\n",
       "      <th>3</th>\n",
       "      <td>../../data/abc_data/pclouds/100.npy</td>\n",
       "      <td>../../data/abc_data/sdfs/100.npy</td>\n",
       "      <td>../../data/abc_data/normals/100.npy</td>\n",
       "      <td>../../data/abc_data/orig_points/100.npy</td>\n",
       "      <td>../../data/abc_data/meshes/100.obj</td>\n",
       "    </tr>\n",
       "    <tr>\n",
       "      <th>4</th>\n",
       "      <td>../../data/abc_data/pclouds/101.npy</td>\n",
       "      <td>../../data/abc_data/sdfs/101.npy</td>\n",
       "      <td>../../data/abc_data/normals/101.npy</td>\n",
       "      <td>../../data/abc_data/orig_points/101.npy</td>\n",
       "      <td>../../data/abc_data/meshes/101.obj</td>\n",
       "    </tr>\n",
       "    <tr>\n",
       "      <th>5</th>\n",
       "      <td>../../data/abc_data/pclouds/102.npy</td>\n",
       "      <td>../../data/abc_data/sdfs/102.npy</td>\n",
       "      <td>../../data/abc_data/normals/102.npy</td>\n",
       "      <td>../../data/abc_data/orig_points/102.npy</td>\n",
       "      <td>../../data/abc_data/meshes/102.obj</td>\n",
       "    </tr>\n",
       "    <tr>\n",
       "      <th>6</th>\n",
       "      <td>../../data/abc_data/pclouds/103.npy</td>\n",
       "      <td>../../data/abc_data/sdfs/103.npy</td>\n",
       "      <td>../../data/abc_data/normals/103.npy</td>\n",
       "      <td>../../data/abc_data/orig_points/103.npy</td>\n",
       "      <td>../../data/abc_data/meshes/103.obj</td>\n",
       "    </tr>\n",
       "    <tr>\n",
       "      <th>7</th>\n",
       "      <td>../../data/abc_data/pclouds/104.npy</td>\n",
       "      <td>../../data/abc_data/sdfs/104.npy</td>\n",
       "      <td>../../data/abc_data/normals/104.npy</td>\n",
       "      <td>../../data/abc_data/orig_points/104.npy</td>\n",
       "      <td>../../data/abc_data/meshes/104.obj</td>\n",
       "    </tr>\n",
       "    <tr>\n",
       "      <th>8</th>\n",
       "      <td>../../data/abc_data/pclouds/105.npy</td>\n",
       "      <td>../../data/abc_data/sdfs/105.npy</td>\n",
       "      <td>../../data/abc_data/normals/105.npy</td>\n",
       "      <td>../../data/abc_data/orig_points/105.npy</td>\n",
       "      <td>../../data/abc_data/meshes/105.obj</td>\n",
       "    </tr>\n",
       "    <tr>\n",
       "      <th>9</th>\n",
       "      <td>../../data/abc_data/pclouds/106.npy</td>\n",
       "      <td>../../data/abc_data/sdfs/106.npy</td>\n",
       "      <td>../../data/abc_data/normals/106.npy</td>\n",
       "      <td>../../data/abc_data/orig_points/106.npy</td>\n",
       "      <td>../../data/abc_data/meshes/106.obj</td>\n",
       "    </tr>\n",
       "    <tr>\n",
       "      <th>10</th>\n",
       "      <td>../../data/abc_data/pclouds/107.npy</td>\n",
       "      <td>../../data/abc_data/sdfs/107.npy</td>\n",
       "      <td>../../data/abc_data/normals/107.npy</td>\n",
       "      <td>../../data/abc_data/orig_points/107.npy</td>\n",
       "      <td>../../data/abc_data/meshes/107.obj</td>\n",
       "    </tr>\n",
       "    <tr>\n",
       "      <th>11</th>\n",
       "      <td>../../data/abc_data/pclouds/108.npy</td>\n",
       "      <td>../../data/abc_data/sdfs/108.npy</td>\n",
       "      <td>../../data/abc_data/normals/108.npy</td>\n",
       "      <td>../../data/abc_data/orig_points/108.npy</td>\n",
       "      <td>../../data/abc_data/meshes/108.obj</td>\n",
       "    </tr>\n",
       "    <tr>\n",
       "      <th>12</th>\n",
       "      <td>../../data/abc_data/pclouds/109.npy</td>\n",
       "      <td>../../data/abc_data/sdfs/109.npy</td>\n",
       "      <td>../../data/abc_data/normals/109.npy</td>\n",
       "      <td>../../data/abc_data/orig_points/109.npy</td>\n",
       "      <td>../../data/abc_data/meshes/109.obj</td>\n",
       "    </tr>\n",
       "    <tr>\n",
       "      <th>13</th>\n",
       "      <td>../../data/abc_data/pclouds/11.npy</td>\n",
       "      <td>../../data/abc_data/sdfs/11.npy</td>\n",
       "      <td>../../data/abc_data/normals/11.npy</td>\n",
       "      <td>../../data/abc_data/orig_points/11.npy</td>\n",
       "      <td>../../data/abc_data/meshes/11.obj</td>\n",
       "    </tr>\n",
       "    <tr>\n",
       "      <th>14</th>\n",
       "      <td>../../data/abc_data/pclouds/110.npy</td>\n",
       "      <td>../../data/abc_data/sdfs/110.npy</td>\n",
       "      <td>../../data/abc_data/normals/110.npy</td>\n",
       "      <td>../../data/abc_data/orig_points/110.npy</td>\n",
       "      <td>../../data/abc_data/meshes/110.obj</td>\n",
       "    </tr>\n",
       "    <tr>\n",
       "      <th>15</th>\n",
       "      <td>../../data/abc_data/pclouds/111.npy</td>\n",
       "      <td>../../data/abc_data/sdfs/111.npy</td>\n",
       "      <td>../../data/abc_data/normals/111.npy</td>\n",
       "      <td>../../data/abc_data/orig_points/111.npy</td>\n",
       "      <td>../../data/abc_data/meshes/111.obj</td>\n",
       "    </tr>\n",
       "    <tr>\n",
       "      <th>16</th>\n",
       "      <td>../../data/abc_data/pclouds/112.npy</td>\n",
       "      <td>../../data/abc_data/sdfs/112.npy</td>\n",
       "      <td>../../data/abc_data/normals/112.npy</td>\n",
       "      <td>../../data/abc_data/orig_points/112.npy</td>\n",
       "      <td>../../data/abc_data/meshes/112.obj</td>\n",
       "    </tr>\n",
       "    <tr>\n",
       "      <th>17</th>\n",
       "      <td>../../data/abc_data/pclouds/113.npy</td>\n",
       "      <td>../../data/abc_data/sdfs/113.npy</td>\n",
       "      <td>../../data/abc_data/normals/113.npy</td>\n",
       "      <td>../../data/abc_data/orig_points/113.npy</td>\n",
       "      <td>../../data/abc_data/meshes/113.obj</td>\n",
       "    </tr>\n",
       "    <tr>\n",
       "      <th>18</th>\n",
       "      <td>../../data/abc_data/pclouds/114.npy</td>\n",
       "      <td>../../data/abc_data/sdfs/114.npy</td>\n",
       "      <td>../../data/abc_data/normals/114.npy</td>\n",
       "      <td>../../data/abc_data/orig_points/114.npy</td>\n",
       "      <td>../../data/abc_data/meshes/114.obj</td>\n",
       "    </tr>\n",
       "    <tr>\n",
       "      <th>19</th>\n",
       "      <td>../../data/abc_data/pclouds/115.npy</td>\n",
       "      <td>../../data/abc_data/sdfs/115.npy</td>\n",
       "      <td>../../data/abc_data/normals/115.npy</td>\n",
       "      <td>../../data/abc_data/orig_points/115.npy</td>\n",
       "      <td>../../data/abc_data/meshes/115.obj</td>\n",
       "    </tr>\n",
       "    <tr>\n",
       "      <th>20</th>\n",
       "      <td>../../data/abc_data/pclouds/116.npy</td>\n",
       "      <td>../../data/abc_data/sdfs/116.npy</td>\n",
       "      <td>../../data/abc_data/normals/116.npy</td>\n",
       "      <td>../../data/abc_data/orig_points/116.npy</td>\n",
       "      <td>../../data/abc_data/meshes/116.obj</td>\n",
       "    </tr>\n",
       "    <tr>\n",
       "      <th>21</th>\n",
       "      <td>../../data/abc_data/pclouds/117.npy</td>\n",
       "      <td>../../data/abc_data/sdfs/117.npy</td>\n",
       "      <td>../../data/abc_data/normals/117.npy</td>\n",
       "      <td>../../data/abc_data/orig_points/117.npy</td>\n",
       "      <td>../../data/abc_data/meshes/117.obj</td>\n",
       "    </tr>\n",
       "    <tr>\n",
       "      <th>22</th>\n",
       "      <td>../../data/abc_data/pclouds/118.npy</td>\n",
       "      <td>../../data/abc_data/sdfs/118.npy</td>\n",
       "      <td>../../data/abc_data/normals/118.npy</td>\n",
       "      <td>../../data/abc_data/orig_points/118.npy</td>\n",
       "      <td>../../data/abc_data/meshes/118.obj</td>\n",
       "    </tr>\n",
       "    <tr>\n",
       "      <th>23</th>\n",
       "      <td>../../data/abc_data/pclouds/119.npy</td>\n",
       "      <td>../../data/abc_data/sdfs/119.npy</td>\n",
       "      <td>../../data/abc_data/normals/119.npy</td>\n",
       "      <td>../../data/abc_data/orig_points/119.npy</td>\n",
       "      <td>../../data/abc_data/meshes/119.obj</td>\n",
       "    </tr>\n",
       "    <tr>\n",
       "      <th>24</th>\n",
       "      <td>../../data/abc_data/pclouds/12.npy</td>\n",
       "      <td>../../data/abc_data/sdfs/12.npy</td>\n",
       "      <td>../../data/abc_data/normals/12.npy</td>\n",
       "      <td>../../data/abc_data/orig_points/12.npy</td>\n",
       "      <td>../../data/abc_data/meshes/12.obj</td>\n",
       "    </tr>\n",
       "    <tr>\n",
       "      <th>25</th>\n",
       "      <td>../../data/abc_data/pclouds/120.npy</td>\n",
       "      <td>../../data/abc_data/sdfs/120.npy</td>\n",
       "      <td>../../data/abc_data/normals/120.npy</td>\n",
       "      <td>../../data/abc_data/orig_points/120.npy</td>\n",
       "      <td>../../data/abc_data/meshes/120.obj</td>\n",
       "    </tr>\n",
       "    <tr>\n",
       "      <th>26</th>\n",
       "      <td>../../data/abc_data/pclouds/121.npy</td>\n",
       "      <td>../../data/abc_data/sdfs/121.npy</td>\n",
       "      <td>../../data/abc_data/normals/121.npy</td>\n",
       "      <td>../../data/abc_data/orig_points/121.npy</td>\n",
       "      <td>../../data/abc_data/meshes/121.obj</td>\n",
       "    </tr>\n",
       "    <tr>\n",
       "      <th>27</th>\n",
       "      <td>../../data/abc_data/pclouds/122.npy</td>\n",
       "      <td>../../data/abc_data/sdfs/122.npy</td>\n",
       "      <td>../../data/abc_data/normals/122.npy</td>\n",
       "      <td>../../data/abc_data/orig_points/122.npy</td>\n",
       "      <td>../../data/abc_data/meshes/122.obj</td>\n",
       "    </tr>\n",
       "    <tr>\n",
       "      <th>28</th>\n",
       "      <td>../../data/abc_data/pclouds/123.npy</td>\n",
       "      <td>../../data/abc_data/sdfs/123.npy</td>\n",
       "      <td>../../data/abc_data/normals/123.npy</td>\n",
       "      <td>../../data/abc_data/orig_points/123.npy</td>\n",
       "      <td>../../data/abc_data/meshes/123.obj</td>\n",
       "    </tr>\n",
       "    <tr>\n",
       "      <th>29</th>\n",
       "      <td>../../data/abc_data/pclouds/124.npy</td>\n",
       "      <td>../../data/abc_data/sdfs/124.npy</td>\n",
       "      <td>../../data/abc_data/normals/124.npy</td>\n",
       "      <td>../../data/abc_data/orig_points/124.npy</td>\n",
       "      <td>../../data/abc_data/meshes/124.obj</td>\n",
       "    </tr>\n",
       "    <tr>\n",
       "      <th>...</th>\n",
       "      <td>...</td>\n",
       "      <td>...</td>\n",
       "      <td>...</td>\n",
       "      <td>...</td>\n",
       "      <td>...</td>\n",
       "    </tr>\n",
       "    <tr>\n",
       "      <th>468</th>\n",
       "      <td>../../data/abc_data/pclouds/72.npy</td>\n",
       "      <td>../../data/abc_data/sdfs/72.npy</td>\n",
       "      <td>../../data/abc_data/normals/72.npy</td>\n",
       "      <td>../../data/abc_data/orig_points/72.npy</td>\n",
       "      <td>../../data/abc_data/meshes/72.obj</td>\n",
       "    </tr>\n",
       "    <tr>\n",
       "      <th>469</th>\n",
       "      <td>../../data/abc_data/pclouds/73.npy</td>\n",
       "      <td>../../data/abc_data/sdfs/73.npy</td>\n",
       "      <td>../../data/abc_data/normals/73.npy</td>\n",
       "      <td>../../data/abc_data/orig_points/73.npy</td>\n",
       "      <td>../../data/abc_data/meshes/73.obj</td>\n",
       "    </tr>\n",
       "    <tr>\n",
       "      <th>470</th>\n",
       "      <td>../../data/abc_data/pclouds/74.npy</td>\n",
       "      <td>../../data/abc_data/sdfs/74.npy</td>\n",
       "      <td>../../data/abc_data/normals/74.npy</td>\n",
       "      <td>../../data/abc_data/orig_points/74.npy</td>\n",
       "      <td>../../data/abc_data/meshes/74.obj</td>\n",
       "    </tr>\n",
       "    <tr>\n",
       "      <th>471</th>\n",
       "      <td>../../data/abc_data/pclouds/75.npy</td>\n",
       "      <td>../../data/abc_data/sdfs/75.npy</td>\n",
       "      <td>../../data/abc_data/normals/75.npy</td>\n",
       "      <td>../../data/abc_data/orig_points/75.npy</td>\n",
       "      <td>../../data/abc_data/meshes/75.obj</td>\n",
       "    </tr>\n",
       "    <tr>\n",
       "      <th>472</th>\n",
       "      <td>../../data/abc_data/pclouds/76.npy</td>\n",
       "      <td>../../data/abc_data/sdfs/76.npy</td>\n",
       "      <td>../../data/abc_data/normals/76.npy</td>\n",
       "      <td>../../data/abc_data/orig_points/76.npy</td>\n",
       "      <td>../../data/abc_data/meshes/76.obj</td>\n",
       "    </tr>\n",
       "    <tr>\n",
       "      <th>473</th>\n",
       "      <td>../../data/abc_data/pclouds/77.npy</td>\n",
       "      <td>../../data/abc_data/sdfs/77.npy</td>\n",
       "      <td>../../data/abc_data/normals/77.npy</td>\n",
       "      <td>../../data/abc_data/orig_points/77.npy</td>\n",
       "      <td>../../data/abc_data/meshes/77.obj</td>\n",
       "    </tr>\n",
       "    <tr>\n",
       "      <th>474</th>\n",
       "      <td>../../data/abc_data/pclouds/78.npy</td>\n",
       "      <td>../../data/abc_data/sdfs/78.npy</td>\n",
       "      <td>../../data/abc_data/normals/78.npy</td>\n",
       "      <td>../../data/abc_data/orig_points/78.npy</td>\n",
       "      <td>../../data/abc_data/meshes/78.obj</td>\n",
       "    </tr>\n",
       "    <tr>\n",
       "      <th>475</th>\n",
       "      <td>../../data/abc_data/pclouds/79.npy</td>\n",
       "      <td>../../data/abc_data/sdfs/79.npy</td>\n",
       "      <td>../../data/abc_data/normals/79.npy</td>\n",
       "      <td>../../data/abc_data/orig_points/79.npy</td>\n",
       "      <td>../../data/abc_data/meshes/79.obj</td>\n",
       "    </tr>\n",
       "    <tr>\n",
       "      <th>476</th>\n",
       "      <td>../../data/abc_data/pclouds/8.npy</td>\n",
       "      <td>../../data/abc_data/sdfs/8.npy</td>\n",
       "      <td>../../data/abc_data/normals/8.npy</td>\n",
       "      <td>../../data/abc_data/orig_points/8.npy</td>\n",
       "      <td>../../data/abc_data/meshes/8.obj</td>\n",
       "    </tr>\n",
       "    <tr>\n",
       "      <th>477</th>\n",
       "      <td>../../data/abc_data/pclouds/80.npy</td>\n",
       "      <td>../../data/abc_data/sdfs/80.npy</td>\n",
       "      <td>../../data/abc_data/normals/80.npy</td>\n",
       "      <td>../../data/abc_data/orig_points/80.npy</td>\n",
       "      <td>../../data/abc_data/meshes/80.obj</td>\n",
       "    </tr>\n",
       "    <tr>\n",
       "      <th>478</th>\n",
       "      <td>../../data/abc_data/pclouds/81.npy</td>\n",
       "      <td>../../data/abc_data/sdfs/81.npy</td>\n",
       "      <td>../../data/abc_data/normals/81.npy</td>\n",
       "      <td>../../data/abc_data/orig_points/81.npy</td>\n",
       "      <td>../../data/abc_data/meshes/81.obj</td>\n",
       "    </tr>\n",
       "    <tr>\n",
       "      <th>479</th>\n",
       "      <td>../../data/abc_data/pclouds/82.npy</td>\n",
       "      <td>../../data/abc_data/sdfs/82.npy</td>\n",
       "      <td>../../data/abc_data/normals/82.npy</td>\n",
       "      <td>../../data/abc_data/orig_points/82.npy</td>\n",
       "      <td>../../data/abc_data/meshes/82.obj</td>\n",
       "    </tr>\n",
       "    <tr>\n",
       "      <th>480</th>\n",
       "      <td>../../data/abc_data/pclouds/83.npy</td>\n",
       "      <td>../../data/abc_data/sdfs/83.npy</td>\n",
       "      <td>../../data/abc_data/normals/83.npy</td>\n",
       "      <td>../../data/abc_data/orig_points/83.npy</td>\n",
       "      <td>../../data/abc_data/meshes/83.obj</td>\n",
       "    </tr>\n",
       "    <tr>\n",
       "      <th>481</th>\n",
       "      <td>../../data/abc_data/pclouds/84.npy</td>\n",
       "      <td>../../data/abc_data/sdfs/84.npy</td>\n",
       "      <td>../../data/abc_data/normals/84.npy</td>\n",
       "      <td>../../data/abc_data/orig_points/84.npy</td>\n",
       "      <td>../../data/abc_data/meshes/84.obj</td>\n",
       "    </tr>\n",
       "    <tr>\n",
       "      <th>482</th>\n",
       "      <td>../../data/abc_data/pclouds/85.npy</td>\n",
       "      <td>../../data/abc_data/sdfs/85.npy</td>\n",
       "      <td>../../data/abc_data/normals/85.npy</td>\n",
       "      <td>../../data/abc_data/orig_points/85.npy</td>\n",
       "      <td>../../data/abc_data/meshes/85.obj</td>\n",
       "    </tr>\n",
       "    <tr>\n",
       "      <th>483</th>\n",
       "      <td>../../data/abc_data/pclouds/86.npy</td>\n",
       "      <td>../../data/abc_data/sdfs/86.npy</td>\n",
       "      <td>../../data/abc_data/normals/86.npy</td>\n",
       "      <td>../../data/abc_data/orig_points/86.npy</td>\n",
       "      <td>../../data/abc_data/meshes/86.obj</td>\n",
       "    </tr>\n",
       "    <tr>\n",
       "      <th>484</th>\n",
       "      <td>../../data/abc_data/pclouds/87.npy</td>\n",
       "      <td>../../data/abc_data/sdfs/87.npy</td>\n",
       "      <td>../../data/abc_data/normals/87.npy</td>\n",
       "      <td>../../data/abc_data/orig_points/87.npy</td>\n",
       "      <td>../../data/abc_data/meshes/87.obj</td>\n",
       "    </tr>\n",
       "    <tr>\n",
       "      <th>485</th>\n",
       "      <td>../../data/abc_data/pclouds/88.npy</td>\n",
       "      <td>../../data/abc_data/sdfs/88.npy</td>\n",
       "      <td>../../data/abc_data/normals/88.npy</td>\n",
       "      <td>../../data/abc_data/orig_points/88.npy</td>\n",
       "      <td>../../data/abc_data/meshes/88.obj</td>\n",
       "    </tr>\n",
       "    <tr>\n",
       "      <th>486</th>\n",
       "      <td>../../data/abc_data/pclouds/89.npy</td>\n",
       "      <td>../../data/abc_data/sdfs/89.npy</td>\n",
       "      <td>../../data/abc_data/normals/89.npy</td>\n",
       "      <td>../../data/abc_data/orig_points/89.npy</td>\n",
       "      <td>../../data/abc_data/meshes/89.obj</td>\n",
       "    </tr>\n",
       "    <tr>\n",
       "      <th>487</th>\n",
       "      <td>../../data/abc_data/pclouds/9.npy</td>\n",
       "      <td>../../data/abc_data/sdfs/9.npy</td>\n",
       "      <td>../../data/abc_data/normals/9.npy</td>\n",
       "      <td>../../data/abc_data/orig_points/9.npy</td>\n",
       "      <td>../../data/abc_data/meshes/9.obj</td>\n",
       "    </tr>\n",
       "    <tr>\n",
       "      <th>488</th>\n",
       "      <td>../../data/abc_data/pclouds/90.npy</td>\n",
       "      <td>../../data/abc_data/sdfs/90.npy</td>\n",
       "      <td>../../data/abc_data/normals/90.npy</td>\n",
       "      <td>../../data/abc_data/orig_points/90.npy</td>\n",
       "      <td>../../data/abc_data/meshes/90.obj</td>\n",
       "    </tr>\n",
       "    <tr>\n",
       "      <th>489</th>\n",
       "      <td>../../data/abc_data/pclouds/91.npy</td>\n",
       "      <td>../../data/abc_data/sdfs/91.npy</td>\n",
       "      <td>../../data/abc_data/normals/91.npy</td>\n",
       "      <td>../../data/abc_data/orig_points/91.npy</td>\n",
       "      <td>../../data/abc_data/meshes/91.obj</td>\n",
       "    </tr>\n",
       "    <tr>\n",
       "      <th>490</th>\n",
       "      <td>../../data/abc_data/pclouds/92.npy</td>\n",
       "      <td>../../data/abc_data/sdfs/92.npy</td>\n",
       "      <td>../../data/abc_data/normals/92.npy</td>\n",
       "      <td>../../data/abc_data/orig_points/92.npy</td>\n",
       "      <td>../../data/abc_data/meshes/92.obj</td>\n",
       "    </tr>\n",
       "    <tr>\n",
       "      <th>491</th>\n",
       "      <td>../../data/abc_data/pclouds/93.npy</td>\n",
       "      <td>../../data/abc_data/sdfs/93.npy</td>\n",
       "      <td>../../data/abc_data/normals/93.npy</td>\n",
       "      <td>../../data/abc_data/orig_points/93.npy</td>\n",
       "      <td>../../data/abc_data/meshes/93.obj</td>\n",
       "    </tr>\n",
       "    <tr>\n",
       "      <th>492</th>\n",
       "      <td>../../data/abc_data/pclouds/94.npy</td>\n",
       "      <td>../../data/abc_data/sdfs/94.npy</td>\n",
       "      <td>../../data/abc_data/normals/94.npy</td>\n",
       "      <td>../../data/abc_data/orig_points/94.npy</td>\n",
       "      <td>../../data/abc_data/meshes/94.obj</td>\n",
       "    </tr>\n",
       "    <tr>\n",
       "      <th>493</th>\n",
       "      <td>../../data/abc_data/pclouds/95.npy</td>\n",
       "      <td>../../data/abc_data/sdfs/95.npy</td>\n",
       "      <td>../../data/abc_data/normals/95.npy</td>\n",
       "      <td>../../data/abc_data/orig_points/95.npy</td>\n",
       "      <td>../../data/abc_data/meshes/95.obj</td>\n",
       "    </tr>\n",
       "    <tr>\n",
       "      <th>494</th>\n",
       "      <td>../../data/abc_data/pclouds/96.npy</td>\n",
       "      <td>../../data/abc_data/sdfs/96.npy</td>\n",
       "      <td>../../data/abc_data/normals/96.npy</td>\n",
       "      <td>../../data/abc_data/orig_points/96.npy</td>\n",
       "      <td>../../data/abc_data/meshes/96.obj</td>\n",
       "    </tr>\n",
       "    <tr>\n",
       "      <th>495</th>\n",
       "      <td>../../data/abc_data/pclouds/97.npy</td>\n",
       "      <td>../../data/abc_data/sdfs/97.npy</td>\n",
       "      <td>../../data/abc_data/normals/97.npy</td>\n",
       "      <td>../../data/abc_data/orig_points/97.npy</td>\n",
       "      <td>../../data/abc_data/meshes/97.obj</td>\n",
       "    </tr>\n",
       "    <tr>\n",
       "      <th>496</th>\n",
       "      <td>../../data/abc_data/pclouds/98.npy</td>\n",
       "      <td>../../data/abc_data/sdfs/98.npy</td>\n",
       "      <td>../../data/abc_data/normals/98.npy</td>\n",
       "      <td>../../data/abc_data/orig_points/98.npy</td>\n",
       "      <td>../../data/abc_data/meshes/98.obj</td>\n",
       "    </tr>\n",
       "    <tr>\n",
       "      <th>497</th>\n",
       "      <td>../../data/abc_data/pclouds/99.npy</td>\n",
       "      <td>../../data/abc_data/sdfs/99.npy</td>\n",
       "      <td>../../data/abc_data/normals/99.npy</td>\n",
       "      <td>../../data/abc_data/orig_points/99.npy</td>\n",
       "      <td>../../data/abc_data/meshes/99.obj</td>\n",
       "    </tr>\n",
       "  </tbody>\n",
       "</table>\n",
       "<p>498 rows × 5 columns</p>\n",
       "</div>"
      ],
      "text/plain": [
       "                                 pclouds                              sdfs  \\\n",
       "0      ../../data/abc_data/pclouds/0.npy    ../../data/abc_data/sdfs/0.npy   \n",
       "1      ../../data/abc_data/pclouds/1.npy    ../../data/abc_data/sdfs/1.npy   \n",
       "2     ../../data/abc_data/pclouds/10.npy   ../../data/abc_data/sdfs/10.npy   \n",
       "3    ../../data/abc_data/pclouds/100.npy  ../../data/abc_data/sdfs/100.npy   \n",
       "4    ../../data/abc_data/pclouds/101.npy  ../../data/abc_data/sdfs/101.npy   \n",
       "5    ../../data/abc_data/pclouds/102.npy  ../../data/abc_data/sdfs/102.npy   \n",
       "6    ../../data/abc_data/pclouds/103.npy  ../../data/abc_data/sdfs/103.npy   \n",
       "7    ../../data/abc_data/pclouds/104.npy  ../../data/abc_data/sdfs/104.npy   \n",
       "8    ../../data/abc_data/pclouds/105.npy  ../../data/abc_data/sdfs/105.npy   \n",
       "9    ../../data/abc_data/pclouds/106.npy  ../../data/abc_data/sdfs/106.npy   \n",
       "10   ../../data/abc_data/pclouds/107.npy  ../../data/abc_data/sdfs/107.npy   \n",
       "11   ../../data/abc_data/pclouds/108.npy  ../../data/abc_data/sdfs/108.npy   \n",
       "12   ../../data/abc_data/pclouds/109.npy  ../../data/abc_data/sdfs/109.npy   \n",
       "13    ../../data/abc_data/pclouds/11.npy   ../../data/abc_data/sdfs/11.npy   \n",
       "14   ../../data/abc_data/pclouds/110.npy  ../../data/abc_data/sdfs/110.npy   \n",
       "15   ../../data/abc_data/pclouds/111.npy  ../../data/abc_data/sdfs/111.npy   \n",
       "16   ../../data/abc_data/pclouds/112.npy  ../../data/abc_data/sdfs/112.npy   \n",
       "17   ../../data/abc_data/pclouds/113.npy  ../../data/abc_data/sdfs/113.npy   \n",
       "18   ../../data/abc_data/pclouds/114.npy  ../../data/abc_data/sdfs/114.npy   \n",
       "19   ../../data/abc_data/pclouds/115.npy  ../../data/abc_data/sdfs/115.npy   \n",
       "20   ../../data/abc_data/pclouds/116.npy  ../../data/abc_data/sdfs/116.npy   \n",
       "21   ../../data/abc_data/pclouds/117.npy  ../../data/abc_data/sdfs/117.npy   \n",
       "22   ../../data/abc_data/pclouds/118.npy  ../../data/abc_data/sdfs/118.npy   \n",
       "23   ../../data/abc_data/pclouds/119.npy  ../../data/abc_data/sdfs/119.npy   \n",
       "24    ../../data/abc_data/pclouds/12.npy   ../../data/abc_data/sdfs/12.npy   \n",
       "25   ../../data/abc_data/pclouds/120.npy  ../../data/abc_data/sdfs/120.npy   \n",
       "26   ../../data/abc_data/pclouds/121.npy  ../../data/abc_data/sdfs/121.npy   \n",
       "27   ../../data/abc_data/pclouds/122.npy  ../../data/abc_data/sdfs/122.npy   \n",
       "28   ../../data/abc_data/pclouds/123.npy  ../../data/abc_data/sdfs/123.npy   \n",
       "29   ../../data/abc_data/pclouds/124.npy  ../../data/abc_data/sdfs/124.npy   \n",
       "..                                   ...                               ...   \n",
       "468   ../../data/abc_data/pclouds/72.npy   ../../data/abc_data/sdfs/72.npy   \n",
       "469   ../../data/abc_data/pclouds/73.npy   ../../data/abc_data/sdfs/73.npy   \n",
       "470   ../../data/abc_data/pclouds/74.npy   ../../data/abc_data/sdfs/74.npy   \n",
       "471   ../../data/abc_data/pclouds/75.npy   ../../data/abc_data/sdfs/75.npy   \n",
       "472   ../../data/abc_data/pclouds/76.npy   ../../data/abc_data/sdfs/76.npy   \n",
       "473   ../../data/abc_data/pclouds/77.npy   ../../data/abc_data/sdfs/77.npy   \n",
       "474   ../../data/abc_data/pclouds/78.npy   ../../data/abc_data/sdfs/78.npy   \n",
       "475   ../../data/abc_data/pclouds/79.npy   ../../data/abc_data/sdfs/79.npy   \n",
       "476    ../../data/abc_data/pclouds/8.npy    ../../data/abc_data/sdfs/8.npy   \n",
       "477   ../../data/abc_data/pclouds/80.npy   ../../data/abc_data/sdfs/80.npy   \n",
       "478   ../../data/abc_data/pclouds/81.npy   ../../data/abc_data/sdfs/81.npy   \n",
       "479   ../../data/abc_data/pclouds/82.npy   ../../data/abc_data/sdfs/82.npy   \n",
       "480   ../../data/abc_data/pclouds/83.npy   ../../data/abc_data/sdfs/83.npy   \n",
       "481   ../../data/abc_data/pclouds/84.npy   ../../data/abc_data/sdfs/84.npy   \n",
       "482   ../../data/abc_data/pclouds/85.npy   ../../data/abc_data/sdfs/85.npy   \n",
       "483   ../../data/abc_data/pclouds/86.npy   ../../data/abc_data/sdfs/86.npy   \n",
       "484   ../../data/abc_data/pclouds/87.npy   ../../data/abc_data/sdfs/87.npy   \n",
       "485   ../../data/abc_data/pclouds/88.npy   ../../data/abc_data/sdfs/88.npy   \n",
       "486   ../../data/abc_data/pclouds/89.npy   ../../data/abc_data/sdfs/89.npy   \n",
       "487    ../../data/abc_data/pclouds/9.npy    ../../data/abc_data/sdfs/9.npy   \n",
       "488   ../../data/abc_data/pclouds/90.npy   ../../data/abc_data/sdfs/90.npy   \n",
       "489   ../../data/abc_data/pclouds/91.npy   ../../data/abc_data/sdfs/91.npy   \n",
       "490   ../../data/abc_data/pclouds/92.npy   ../../data/abc_data/sdfs/92.npy   \n",
       "491   ../../data/abc_data/pclouds/93.npy   ../../data/abc_data/sdfs/93.npy   \n",
       "492   ../../data/abc_data/pclouds/94.npy   ../../data/abc_data/sdfs/94.npy   \n",
       "493   ../../data/abc_data/pclouds/95.npy   ../../data/abc_data/sdfs/95.npy   \n",
       "494   ../../data/abc_data/pclouds/96.npy   ../../data/abc_data/sdfs/96.npy   \n",
       "495   ../../data/abc_data/pclouds/97.npy   ../../data/abc_data/sdfs/97.npy   \n",
       "496   ../../data/abc_data/pclouds/98.npy   ../../data/abc_data/sdfs/98.npy   \n",
       "497   ../../data/abc_data/pclouds/99.npy   ../../data/abc_data/sdfs/99.npy   \n",
       "\n",
       "                                 normals  \\\n",
       "0      ../../data/abc_data/normals/0.npy   \n",
       "1      ../../data/abc_data/normals/1.npy   \n",
       "2     ../../data/abc_data/normals/10.npy   \n",
       "3    ../../data/abc_data/normals/100.npy   \n",
       "4    ../../data/abc_data/normals/101.npy   \n",
       "5    ../../data/abc_data/normals/102.npy   \n",
       "6    ../../data/abc_data/normals/103.npy   \n",
       "7    ../../data/abc_data/normals/104.npy   \n",
       "8    ../../data/abc_data/normals/105.npy   \n",
       "9    ../../data/abc_data/normals/106.npy   \n",
       "10   ../../data/abc_data/normals/107.npy   \n",
       "11   ../../data/abc_data/normals/108.npy   \n",
       "12   ../../data/abc_data/normals/109.npy   \n",
       "13    ../../data/abc_data/normals/11.npy   \n",
       "14   ../../data/abc_data/normals/110.npy   \n",
       "15   ../../data/abc_data/normals/111.npy   \n",
       "16   ../../data/abc_data/normals/112.npy   \n",
       "17   ../../data/abc_data/normals/113.npy   \n",
       "18   ../../data/abc_data/normals/114.npy   \n",
       "19   ../../data/abc_data/normals/115.npy   \n",
       "20   ../../data/abc_data/normals/116.npy   \n",
       "21   ../../data/abc_data/normals/117.npy   \n",
       "22   ../../data/abc_data/normals/118.npy   \n",
       "23   ../../data/abc_data/normals/119.npy   \n",
       "24    ../../data/abc_data/normals/12.npy   \n",
       "25   ../../data/abc_data/normals/120.npy   \n",
       "26   ../../data/abc_data/normals/121.npy   \n",
       "27   ../../data/abc_data/normals/122.npy   \n",
       "28   ../../data/abc_data/normals/123.npy   \n",
       "29   ../../data/abc_data/normals/124.npy   \n",
       "..                                   ...   \n",
       "468   ../../data/abc_data/normals/72.npy   \n",
       "469   ../../data/abc_data/normals/73.npy   \n",
       "470   ../../data/abc_data/normals/74.npy   \n",
       "471   ../../data/abc_data/normals/75.npy   \n",
       "472   ../../data/abc_data/normals/76.npy   \n",
       "473   ../../data/abc_data/normals/77.npy   \n",
       "474   ../../data/abc_data/normals/78.npy   \n",
       "475   ../../data/abc_data/normals/79.npy   \n",
       "476    ../../data/abc_data/normals/8.npy   \n",
       "477   ../../data/abc_data/normals/80.npy   \n",
       "478   ../../data/abc_data/normals/81.npy   \n",
       "479   ../../data/abc_data/normals/82.npy   \n",
       "480   ../../data/abc_data/normals/83.npy   \n",
       "481   ../../data/abc_data/normals/84.npy   \n",
       "482   ../../data/abc_data/normals/85.npy   \n",
       "483   ../../data/abc_data/normals/86.npy   \n",
       "484   ../../data/abc_data/normals/87.npy   \n",
       "485   ../../data/abc_data/normals/88.npy   \n",
       "486   ../../data/abc_data/normals/89.npy   \n",
       "487    ../../data/abc_data/normals/9.npy   \n",
       "488   ../../data/abc_data/normals/90.npy   \n",
       "489   ../../data/abc_data/normals/91.npy   \n",
       "490   ../../data/abc_data/normals/92.npy   \n",
       "491   ../../data/abc_data/normals/93.npy   \n",
       "492   ../../data/abc_data/normals/94.npy   \n",
       "493   ../../data/abc_data/normals/95.npy   \n",
       "494   ../../data/abc_data/normals/96.npy   \n",
       "495   ../../data/abc_data/normals/97.npy   \n",
       "496   ../../data/abc_data/normals/98.npy   \n",
       "497   ../../data/abc_data/normals/99.npy   \n",
       "\n",
       "                                 orig_points  \\\n",
       "0      ../../data/abc_data/orig_points/0.npy   \n",
       "1      ../../data/abc_data/orig_points/1.npy   \n",
       "2     ../../data/abc_data/orig_points/10.npy   \n",
       "3    ../../data/abc_data/orig_points/100.npy   \n",
       "4    ../../data/abc_data/orig_points/101.npy   \n",
       "5    ../../data/abc_data/orig_points/102.npy   \n",
       "6    ../../data/abc_data/orig_points/103.npy   \n",
       "7    ../../data/abc_data/orig_points/104.npy   \n",
       "8    ../../data/abc_data/orig_points/105.npy   \n",
       "9    ../../data/abc_data/orig_points/106.npy   \n",
       "10   ../../data/abc_data/orig_points/107.npy   \n",
       "11   ../../data/abc_data/orig_points/108.npy   \n",
       "12   ../../data/abc_data/orig_points/109.npy   \n",
       "13    ../../data/abc_data/orig_points/11.npy   \n",
       "14   ../../data/abc_data/orig_points/110.npy   \n",
       "15   ../../data/abc_data/orig_points/111.npy   \n",
       "16   ../../data/abc_data/orig_points/112.npy   \n",
       "17   ../../data/abc_data/orig_points/113.npy   \n",
       "18   ../../data/abc_data/orig_points/114.npy   \n",
       "19   ../../data/abc_data/orig_points/115.npy   \n",
       "20   ../../data/abc_data/orig_points/116.npy   \n",
       "21   ../../data/abc_data/orig_points/117.npy   \n",
       "22   ../../data/abc_data/orig_points/118.npy   \n",
       "23   ../../data/abc_data/orig_points/119.npy   \n",
       "24    ../../data/abc_data/orig_points/12.npy   \n",
       "25   ../../data/abc_data/orig_points/120.npy   \n",
       "26   ../../data/abc_data/orig_points/121.npy   \n",
       "27   ../../data/abc_data/orig_points/122.npy   \n",
       "28   ../../data/abc_data/orig_points/123.npy   \n",
       "29   ../../data/abc_data/orig_points/124.npy   \n",
       "..                                       ...   \n",
       "468   ../../data/abc_data/orig_points/72.npy   \n",
       "469   ../../data/abc_data/orig_points/73.npy   \n",
       "470   ../../data/abc_data/orig_points/74.npy   \n",
       "471   ../../data/abc_data/orig_points/75.npy   \n",
       "472   ../../data/abc_data/orig_points/76.npy   \n",
       "473   ../../data/abc_data/orig_points/77.npy   \n",
       "474   ../../data/abc_data/orig_points/78.npy   \n",
       "475   ../../data/abc_data/orig_points/79.npy   \n",
       "476    ../../data/abc_data/orig_points/8.npy   \n",
       "477   ../../data/abc_data/orig_points/80.npy   \n",
       "478   ../../data/abc_data/orig_points/81.npy   \n",
       "479   ../../data/abc_data/orig_points/82.npy   \n",
       "480   ../../data/abc_data/orig_points/83.npy   \n",
       "481   ../../data/abc_data/orig_points/84.npy   \n",
       "482   ../../data/abc_data/orig_points/85.npy   \n",
       "483   ../../data/abc_data/orig_points/86.npy   \n",
       "484   ../../data/abc_data/orig_points/87.npy   \n",
       "485   ../../data/abc_data/orig_points/88.npy   \n",
       "486   ../../data/abc_data/orig_points/89.npy   \n",
       "487    ../../data/abc_data/orig_points/9.npy   \n",
       "488   ../../data/abc_data/orig_points/90.npy   \n",
       "489   ../../data/abc_data/orig_points/91.npy   \n",
       "490   ../../data/abc_data/orig_points/92.npy   \n",
       "491   ../../data/abc_data/orig_points/93.npy   \n",
       "492   ../../data/abc_data/orig_points/94.npy   \n",
       "493   ../../data/abc_data/orig_points/95.npy   \n",
       "494   ../../data/abc_data/orig_points/96.npy   \n",
       "495   ../../data/abc_data/orig_points/97.npy   \n",
       "496   ../../data/abc_data/orig_points/98.npy   \n",
       "497   ../../data/abc_data/orig_points/99.npy   \n",
       "\n",
       "                                 meshes  \n",
       "0      ../../data/abc_data/meshes/0.obj  \n",
       "1      ../../data/abc_data/meshes/1.obj  \n",
       "2     ../../data/abc_data/meshes/10.obj  \n",
       "3    ../../data/abc_data/meshes/100.obj  \n",
       "4    ../../data/abc_data/meshes/101.obj  \n",
       "5    ../../data/abc_data/meshes/102.obj  \n",
       "6    ../../data/abc_data/meshes/103.obj  \n",
       "7    ../../data/abc_data/meshes/104.obj  \n",
       "8    ../../data/abc_data/meshes/105.obj  \n",
       "9    ../../data/abc_data/meshes/106.obj  \n",
       "10   ../../data/abc_data/meshes/107.obj  \n",
       "11   ../../data/abc_data/meshes/108.obj  \n",
       "12   ../../data/abc_data/meshes/109.obj  \n",
       "13    ../../data/abc_data/meshes/11.obj  \n",
       "14   ../../data/abc_data/meshes/110.obj  \n",
       "15   ../../data/abc_data/meshes/111.obj  \n",
       "16   ../../data/abc_data/meshes/112.obj  \n",
       "17   ../../data/abc_data/meshes/113.obj  \n",
       "18   ../../data/abc_data/meshes/114.obj  \n",
       "19   ../../data/abc_data/meshes/115.obj  \n",
       "20   ../../data/abc_data/meshes/116.obj  \n",
       "21   ../../data/abc_data/meshes/117.obj  \n",
       "22   ../../data/abc_data/meshes/118.obj  \n",
       "23   ../../data/abc_data/meshes/119.obj  \n",
       "24    ../../data/abc_data/meshes/12.obj  \n",
       "25   ../../data/abc_data/meshes/120.obj  \n",
       "26   ../../data/abc_data/meshes/121.obj  \n",
       "27   ../../data/abc_data/meshes/122.obj  \n",
       "28   ../../data/abc_data/meshes/123.obj  \n",
       "29   ../../data/abc_data/meshes/124.obj  \n",
       "..                                  ...  \n",
       "468   ../../data/abc_data/meshes/72.obj  \n",
       "469   ../../data/abc_data/meshes/73.obj  \n",
       "470   ../../data/abc_data/meshes/74.obj  \n",
       "471   ../../data/abc_data/meshes/75.obj  \n",
       "472   ../../data/abc_data/meshes/76.obj  \n",
       "473   ../../data/abc_data/meshes/77.obj  \n",
       "474   ../../data/abc_data/meshes/78.obj  \n",
       "475   ../../data/abc_data/meshes/79.obj  \n",
       "476    ../../data/abc_data/meshes/8.obj  \n",
       "477   ../../data/abc_data/meshes/80.obj  \n",
       "478   ../../data/abc_data/meshes/81.obj  \n",
       "479   ../../data/abc_data/meshes/82.obj  \n",
       "480   ../../data/abc_data/meshes/83.obj  \n",
       "481   ../../data/abc_data/meshes/84.obj  \n",
       "482   ../../data/abc_data/meshes/85.obj  \n",
       "483   ../../data/abc_data/meshes/86.obj  \n",
       "484   ../../data/abc_data/meshes/87.obj  \n",
       "485   ../../data/abc_data/meshes/88.obj  \n",
       "486   ../../data/abc_data/meshes/89.obj  \n",
       "487    ../../data/abc_data/meshes/9.obj  \n",
       "488   ../../data/abc_data/meshes/90.obj  \n",
       "489   ../../data/abc_data/meshes/91.obj  \n",
       "490   ../../data/abc_data/meshes/92.obj  \n",
       "491   ../../data/abc_data/meshes/93.obj  \n",
       "492   ../../data/abc_data/meshes/94.obj  \n",
       "493   ../../data/abc_data/meshes/95.obj  \n",
       "494   ../../data/abc_data/meshes/96.obj  \n",
       "495   ../../data/abc_data/meshes/97.obj  \n",
       "496   ../../data/abc_data/meshes/98.obj  \n",
       "497   ../../data/abc_data/meshes/99.obj  \n",
       "\n",
       "[498 rows x 5 columns]"
      ]
     },
     "execution_count": 16,
     "metadata": {},
     "output_type": "execute_result"
    }
   ],
   "source": [
    "df"
   ]
  },
  {
   "cell_type": "code",
   "execution_count": 17,
   "metadata": {},
   "outputs": [],
   "source": [
    "df.to_csv('../../data/abc_data_sigma_1.0.csv')"
   ]
  },
  {
   "cell_type": "code",
   "execution_count": null,
   "metadata": {},
   "outputs": [],
   "source": []
  }
 ],
 "metadata": {
  "kernelspec": {
   "display_name": "Python 3",
   "language": "python",
   "name": "python3"
  },
  "language_info": {
   "codemirror_mode": {
    "name": "ipython",
    "version": 3
   },
   "file_extension": ".py",
   "mimetype": "text/x-python",
   "name": "python",
   "nbconvert_exporter": "python",
   "pygments_lexer": "ipython3",
   "version": "3.6.5"
  }
 },
 "nbformat": 4,
 "nbformat_minor": 2
}
