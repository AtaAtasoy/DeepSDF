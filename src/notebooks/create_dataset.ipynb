{
 "cells": [
  {
   "cell_type": "code",
   "execution_count": 1,
   "metadata": {},
   "outputs": [],
   "source": [
    "import sys \n",
    "sys.path.append('..')\n",
    "import warnings\n",
    "warnings.filterwarnings('ignore')"
   ]
  },
  {
   "cell_type": "code",
   "execution_count": 5,
   "metadata": {},
   "outputs": [],
   "source": [
    "from backend.sampler import MeshSampler\n",
    "import trimesh\n",
    "import numpy as np\n",
    "import shutil\n",
    "import os\n",
    "from tqdm import tqdm_notebook as tqdm"
   ]
  },
  {
   "cell_type": "code",
   "execution_count": 4,
   "metadata": {},
   "outputs": [],
   "source": [
    "DATA_DIR = '../../../../data/abc/obj/'\n",
    "SAVE_DIR = '../../data/abc_data/'\n",
    "MESH_DIR = os.path.join(SAVE_DIR, 'meshes')\n",
    "PCLOUD_DIR = os.path.join(SAVE_DIR, 'pclouds')\n",
    "NORMAL_DIR = os.path.join(SAVE_DIR, 'normals')\n",
    "SDF_DIR = os.path.join(SAVE_DIR, 'sdfs')\n",
    "ORIG_POINTS_DIR = os.path.join(SAVE_DIR, 'orig_points')\n",
    "\n",
    "os.makedirs(MESH_DIR, exist_ok=True)\n",
    "os.makedirs(PCLOUD_DIR, exist_ok=True)\n",
    "os.makedirs(NORMAL_DIR, exist_ok=True)\n",
    "os.makedirs(SDF_DIR, exist_ok=True)\n",
    "os.makedirs(ORIG_POINTS_DIR, exist_ok=True)"
   ]
  },
  {
   "cell_type": "markdown",
   "metadata": {},
   "source": [
    "# Create ShapeNet dataset"
   ]
  },
  {
   "cell_type": "code",
   "execution_count": 4,
   "metadata": {
    "scrolled": false
   },
   "outputs": [],
   "source": [
    "# for synsetId in tqdm(os.listdir(DATA_DIR)[33:]):\n",
    "#     SYNSET_DIR = os.path.join(DATA_DIR, synsetId)\n",
    "#     for i, modelId in enumerate(tqdm(os.listdir(SYNSET_DIR))):\n",
    "#         if i == 5:\n",
    "#             break\n",
    "#         MODEL_DIR = os.path.join(SYNSET_DIR, modelId, 'models')\n",
    "#         MESH = os.path.join(MODEL_DIR, 'model_normalized.obj')\n",
    "        \n",
    "#         sampler = MeshSampler(trimesh.load(MESH))\n",
    "#         sampler.compute_visible_faces()\n",
    "#         sampler.sample_points(n_points=250000)\n",
    "#         correct_mesh_points, correct_sdf = sampler.compute_sdf(sigma=0.0025)\n",
    "        \n",
    "#         SAVE_PATH = os.path.join(SAVE_DIR, synsetId, modelId)\n",
    "#         os.makedirs(SAVE_PATH, exist_ok=True)\n",
    "#         np.save(os.path.join(SAVE_PATH, 'points.npy'), correct_mesh_points)\n",
    "#         np.save(os.path.join(SAVE_PATH, 'sdfs.npy'), correct_sdf)"
   ]
  },
  {
   "cell_type": "markdown",
   "metadata": {},
   "source": [
    "# Create ABC dataset"
   ]
  },
  {
   "cell_type": "code",
   "execution_count": null,
   "metadata": {},
   "outputs": [
    {
     "data": {
      "application/vnd.jupyter.widget-view+json": {
       "model_id": "4094e0bb55cc4617b844907cce9573e1",
       "version_major": 2,
       "version_minor": 0
      },
      "text/plain": [
       "HBox(children=(IntProgress(value=0, max=500), HTML(value='')))"
      ]
     },
     "metadata": {},
     "output_type": "display_data"
    },
    {
     "data": {
      "application/vnd.jupyter.widget-view+json": {
       "model_id": "e6ec16ffac214832bc67e4b69668fddf",
       "version_major": 2,
       "version_minor": 0
      },
      "text/plain": [
       "HBox(children=(IntProgress(value=0, max=250000), HTML(value='')))"
      ]
     },
     "metadata": {},
     "output_type": "display_data"
    },
    {
     "name": "stdout",
     "output_type": "stream",
     "text": [
      "\n"
     ]
    },
    {
     "name": "stderr",
     "output_type": "stream",
     "text": [
      "Exception in thread Thread-5:\n",
      "Traceback (most recent call last):\n",
      "  File \"/opt/conda/lib/python3.6/threading.py\", line 916, in _bootstrap_inner\n",
      "    self.run()\n",
      "  File \"/opt/conda/lib/python3.6/site-packages/tqdm/_monitor.py\", line 62, in run\n",
      "    for instance in self.tqdm_cls._instances:\n",
      "  File \"/opt/conda/lib/python3.6/_weakrefset.py\", line 60, in __iter__\n",
      "    for itemref in self.data:\n",
      "RuntimeError: Set changed size during iteration\n",
      "\n"
     ]
    },
    {
     "data": {
      "application/vnd.jupyter.widget-view+json": {
       "model_id": "b7e46415cfbc4084ae04469dd621ebe3",
       "version_major": 2,
       "version_minor": 0
      },
      "text/plain": [
       "HBox(children=(IntProgress(value=0, max=250000), HTML(value='')))"
      ]
     },
     "metadata": {},
     "output_type": "display_data"
    },
    {
     "data": {
      "application/vnd.jupyter.widget-view+json": {
       "model_id": "21cbcaf290dc4d0fa84b21ef03c659d2",
       "version_major": 2,
       "version_minor": 0
      },
      "text/plain": [
       "HBox(children=(IntProgress(value=0, max=250000), HTML(value='')))"
      ]
     },
     "metadata": {},
     "output_type": "display_data"
    },
    {
     "data": {
      "application/vnd.jupyter.widget-view+json": {
       "model_id": "4534e9ecca594c19ac9ecd8e6a7806b2",
       "version_major": 2,
       "version_minor": 0
      },
      "text/plain": [
       "HBox(children=(IntProgress(value=0, max=250000), HTML(value='')))"
      ]
     },
     "metadata": {},
     "output_type": "display_data"
    },
    {
     "data": {
      "application/vnd.jupyter.widget-view+json": {
       "model_id": "ed2fc1c21237469da21d366738e27486",
       "version_major": 2,
       "version_minor": 0
      },
      "text/plain": [
       "HBox(children=(IntProgress(value=0, max=250000), HTML(value='')))"
      ]
     },
     "metadata": {},
     "output_type": "display_data"
    },
    {
     "data": {
      "application/vnd.jupyter.widget-view+json": {
       "model_id": "aa02dad350e841c79ec0c067702a4811",
       "version_major": 2,
       "version_minor": 0
      },
      "text/plain": [
       "HBox(children=(IntProgress(value=0, max=250000), HTML(value='')))"
      ]
     },
     "metadata": {},
     "output_type": "display_data"
    },
    {
     "data": {
      "application/vnd.jupyter.widget-view+json": {
       "model_id": "3a07eb28497947269e08131be3eb3567",
       "version_major": 2,
       "version_minor": 0
      },
      "text/plain": [
       "HBox(children=(IntProgress(value=0, max=250000), HTML(value='')))"
      ]
     },
     "metadata": {},
     "output_type": "display_data"
    }
   ],
   "source": [
    "abc_dirs = os.listdir(DATA_DIR)\n",
    "n_samples = 500\n",
    "\n",
    "\n",
    "from random import randint\n",
    "indices = []\n",
    "while len(indices) < 500:\n",
    "    i = randint(0, len(abc_dirs))\n",
    "    if i not in indices:\n",
    "        indices += [i]\n",
    "        \n",
    "        \n",
    "for i, index in enumerate(tqdm(indices)):\n",
    "    MESH = os.path.join(DATA_DIR, abc_dirs[index])\n",
    "\n",
    "    sampler = MeshSampler(trimesh.load(MESH), check_faces=False)\n",
    "    points = sampler.sample_points(n_points=250000)\n",
    "    noisy_points, sdf, normals = sampler.compute_sdf(sigma=1.0)\n",
    "\n",
    "    np.save(os.path.join(PCLOUD_DIR, str(i)+'.npy'), noisy_points)\n",
    "    np.save(os.path.join(SDF_DIR, str(i)+'.npy'), sdf)\n",
    "    np.save(os.path.join(NORMAL_DIR, str(i)+'.npy'), normals)\n",
    "    np.save(os.path.join(ORIG_POINTS_DIR, str(i)+'.npy'), points)\n",
    "    shutil.copy(MESH, os.path.join(MESH_DIR, str(i)+'.obj'))"
   ]
  },
  {
   "cell_type": "code",
   "execution_count": null,
   "metadata": {},
   "outputs": [],
   "source": []
  }
 ],
 "metadata": {
  "kernelspec": {
   "display_name": "Python 3",
   "language": "python",
   "name": "python3"
  },
  "language_info": {
   "codemirror_mode": {
    "name": "ipython",
    "version": 3
   },
   "file_extension": ".py",
   "mimetype": "text/x-python",
   "name": "python",
   "nbconvert_exporter": "python",
   "pygments_lexer": "ipython3",
   "version": "3.6.5"
  }
 },
 "nbformat": 4,
 "nbformat_minor": 2
}
