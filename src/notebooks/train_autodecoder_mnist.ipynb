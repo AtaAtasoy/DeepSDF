{
 "cells": [
  {
   "cell_type": "code",
   "execution_count": 1,
   "metadata": {},
   "outputs": [],
   "source": [
    "import sys\n",
    "sys.path.append('..')\n",
    "\n",
    "import os\n",
    "import numpy as np\n",
    "import torch\n",
    "import torch.nn as nn\n",
    "import torch.nn.functional as F\n",
    "import torch.nn.init as init\n",
    "import torchvision\n",
    "from torchvision.utils import save_image\n",
    "from torch.utils.data.dataset import Dataset\n",
    "from torchvision import transforms\n",
    "import torch.nn.functional as F\n",
    "from tqdm import tqdm_notebook as tqdm\n",
    "\n",
    "os.environ['CUDA_VISIBLE_DEVICES']='0'"
   ]
  },
  {
   "cell_type": "markdown",
   "metadata": {},
   "source": [
    "### MNIST data"
   ]
  },
  {
   "cell_type": "code",
   "execution_count": 2,
   "metadata": {},
   "outputs": [],
   "source": [
    "# A wrapper dataset over MNIST to return images and indices\n",
    "class DatasetMNIST(Dataset):\n",
    "\n",
    "    def __init__(self, root_dir, latent_size, transform=None):\n",
    "        mnist = torchvision.datasets.MNIST(root=root_dir, train=True,download=True)\n",
    "        self.data = mnist.train_data.float()/255.0\n",
    "\n",
    "    def __len__(self):\n",
    "        return len(self.data)\n",
    "\n",
    "    def __getitem__(self, index):\n",
    "        image = self.data[index]\n",
    "\n",
    "        return image.flatten(), index"
   ]
  },
  {
   "cell_type": "code",
   "execution_count": 3,
   "metadata": {},
   "outputs": [],
   "source": [
    "# Create a directory if not exists\n",
    "sample_dir = 'samples'\n",
    "os.makedirs(sample_dir, exist_ok=True)\n",
    "\n",
    "# Hyper-parameters\n",
    "image_size = 784\n",
    "h_dim = 512\n",
    "num_epochs = 12\n",
    "batch_size = 128\n",
    "learning_rate = 2e-3\n",
    "latent_size = 2"
   ]
  },
  {
   "cell_type": "markdown",
   "metadata": {},
   "source": [
    "### Auto-decoder"
   ]
  },
  {
   "cell_type": "code",
   "execution_count": 4,
   "metadata": {},
   "outputs": [],
   "source": [
    "class AD(nn.Module):\n",
    "    def __init__(self, image_size=784, z_dim=latent_size, data_shape=60000):\n",
    "        super(AD, self).__init__()\n",
    "        self.decoder = nn.Sequential(\n",
    "            nn.Linear(z_dim, 128),\n",
    "            nn.ReLU(True),\n",
    "            nn.Linear(128, 256),\n",
    "            nn.ReLU(True),\n",
    "            nn.Linear(256, 512),\n",
    "            nn.ReLU(True), nn.Linear(512, 28 * 28), nn.Tanh())\n",
    "        \n",
    "        self.latent_vectors = nn.Parameter(torch.FloatTensor(data_shape, latent_size))\n",
    "        \n",
    "        init.xavier_normal(self.latent_vectors)\n",
    "    \n",
    "    def forward(self, ind):\n",
    "        x = self.latent_vectors[ind]\n",
    "        return self.decoder(x)\n",
    "    \n",
    "    def predict(self, x):\n",
    "        return self.decoder(x)"
   ]
  },
  {
   "cell_type": "code",
   "execution_count": 5,
   "metadata": {},
   "outputs": [],
   "source": [
    "transform = transforms.Compose([\n",
    "    transforms.ToTensor()\n",
    "])\n",
    "\n",
    "dataset = DatasetMNIST(root_dir='../../data', latent_size=latent_size)\n",
    "\n",
    "# Data loader\n",
    "data_loader = torch.utils.data.DataLoader(dataset=dataset,\n",
    "                                          batch_size=batch_size, \n",
    "                                          shuffle=True)"
   ]
  },
  {
   "cell_type": "code",
   "execution_count": 6,
   "metadata": {},
   "outputs": [
    {
     "name": "stderr",
     "output_type": "stream",
     "text": [
      "/opt/conda/lib/python3.6/site-packages/ipykernel_launcher.py:14: UserWarning: nn.init.xavier_normal is now deprecated in favor of nn.init.xavier_normal_.\n",
      "  \n"
     ]
    }
   ],
   "source": [
    "model = AD().cuda()\n",
    "\n",
    "# recusntruction loss\n",
    "criterion = nn.MSELoss()#nn.BCEWithLogitsLoss()\n",
    "\n",
    "optimizer = torch.optim.Adam(model.parameters(), lr=learning_rate)"
   ]
  },
  {
   "cell_type": "code",
   "execution_count": 7,
   "metadata": {},
   "outputs": [
    {
     "name": "stdout",
     "output_type": "stream",
     "text": [
      "torch.Size([128, 784]) torch.Size([128])\n"
     ]
    },
    {
     "data": {
      "text/plain": [
       "tensor([13540, 21457, 10410, 32233, 41246, 54087,  4344, 59169, 10640, 27006,\n",
       "        17653, 56291, 13409, 11766,  5502, 39906, 13918, 13974,  3461, 35348,\n",
       "        37722, 51551,   544,  8944, 22313, 49235, 53887, 59039, 42327, 12350,\n",
       "        22135, 15129, 14211, 20127, 51002, 24538, 58044,  5788, 22465, 37846,\n",
       "        18978, 55127, 46041,  6216, 21545, 20958, 12630, 58545, 19814, 54990,\n",
       "        13217,  7113, 10594,  2188, 27824, 50855,  3840,  8330, 15817, 45277,\n",
       "        44903, 11846, 24572, 14835, 44232, 44413, 43247,  8501, 44076, 22922,\n",
       "         9182,  6270,  6106, 10432, 23935, 36022, 56633,   460, 38529, 16794,\n",
       "        46296, 14553, 40087, 25712, 16402, 38071, 53925, 28276,  7727, 48537,\n",
       "        13171,  9558, 11496, 12218, 33071, 39886, 56109, 14406, 49940, 21222,\n",
       "        31373, 17619, 40946, 29179, 50905,  3964, 53350, 32685, 10145, 54054,\n",
       "        24827, 10277, 30692, 28237, 44877, 13184, 46068, 18332, 26410, 56684,\n",
       "        32720, 33955, 36564, 54490, 59078, 15826,  9466, 57649])"
      ]
     },
     "execution_count": 7,
     "metadata": {},
     "output_type": "execute_result"
    }
   ],
   "source": [
    "x, y = next(iter(data_loader))\n",
    "print(x.shape, y.shape)\n",
    "y"
   ]
  },
  {
   "cell_type": "code",
   "execution_count": 8,
   "metadata": {},
   "outputs": [
    {
     "data": {
      "text/plain": [
       "Parameter containing:\n",
       "tensor([[-4.9269e-03, -1.6008e-02],\n",
       "        [ 3.6784e-03, -5.6042e-03],\n",
       "        [ 2.8870e-03,  2.9110e-03],\n",
       "        ...,\n",
       "        [ 1.9106e-03, -1.6223e-03],\n",
       "        [-5.9483e-03, -8.7236e-03],\n",
       "        [-2.4812e-03,  2.8096e-06]], device='cuda:0', requires_grad=True)"
      ]
     },
     "execution_count": 8,
     "metadata": {},
     "output_type": "execute_result"
    }
   ],
   "source": [
    "model.latent_vectors # just to check"
   ]
  },
  {
   "cell_type": "markdown",
   "metadata": {},
   "source": [
    "### Training"
   ]
  },
  {
   "cell_type": "code",
   "execution_count": 9,
   "metadata": {
    "scrolled": false
   },
   "outputs": [
    {
     "data": {
      "application/vnd.jupyter.widget-view+json": {
       "model_id": "2ebdafc1239d468fad845b05bd348b63",
       "version_major": 2,
       "version_minor": 0
      },
      "text/plain": [
       "HBox(children=(IntProgress(value=0, max=469), HTML(value='')))"
      ]
     },
     "metadata": {},
     "output_type": "display_data"
    },
    {
     "data": {
      "application/vnd.jupyter.widget-view+json": {
       "model_id": "d86a1c94d93d4127822a05eeaf11c65a",
       "version_major": 2,
       "version_minor": 0
      },
      "text/plain": [
       "HBox(children=(IntProgress(value=0, max=469), HTML(value='')))"
      ]
     },
     "metadata": {},
     "output_type": "display_data"
    },
    {
     "name": "stdout",
     "output_type": "stream",
     "text": [
      "\n"
     ]
    },
    {
     "data": {
      "application/vnd.jupyter.widget-view+json": {
       "model_id": "0262eb2ab4974d3080319a5605070b00",
       "version_major": 2,
       "version_minor": 0
      },
      "text/plain": [
       "HBox(children=(IntProgress(value=0, max=469), HTML(value='')))"
      ]
     },
     "metadata": {},
     "output_type": "display_data"
    },
    {
     "name": "stdout",
     "output_type": "stream",
     "text": [
      "\n"
     ]
    },
    {
     "data": {
      "application/vnd.jupyter.widget-view+json": {
       "model_id": "61f8b23632f047c39689fff2e059faa6",
       "version_major": 2,
       "version_minor": 0
      },
      "text/plain": [
       "HBox(children=(IntProgress(value=0, max=469), HTML(value='')))"
      ]
     },
     "metadata": {},
     "output_type": "display_data"
    },
    {
     "name": "stdout",
     "output_type": "stream",
     "text": [
      "\n"
     ]
    },
    {
     "data": {
      "application/vnd.jupyter.widget-view+json": {
       "model_id": "57cb310460b14a489c4536854fb333ae",
       "version_major": 2,
       "version_minor": 0
      },
      "text/plain": [
       "HBox(children=(IntProgress(value=0, max=469), HTML(value='')))"
      ]
     },
     "metadata": {},
     "output_type": "display_data"
    },
    {
     "name": "stdout",
     "output_type": "stream",
     "text": [
      "\n"
     ]
    },
    {
     "data": {
      "application/vnd.jupyter.widget-view+json": {
       "model_id": "872c21318d814b07ae4e619d8bbecaba",
       "version_major": 2,
       "version_minor": 0
      },
      "text/plain": [
       "HBox(children=(IntProgress(value=0, max=469), HTML(value='')))"
      ]
     },
     "metadata": {},
     "output_type": "display_data"
    },
    {
     "name": "stdout",
     "output_type": "stream",
     "text": [
      "\n"
     ]
    },
    {
     "data": {
      "application/vnd.jupyter.widget-view+json": {
       "model_id": "baaf686a89e149c6823275dcf67a5cd5",
       "version_major": 2,
       "version_minor": 0
      },
      "text/plain": [
       "HBox(children=(IntProgress(value=0, max=469), HTML(value='')))"
      ]
     },
     "metadata": {},
     "output_type": "display_data"
    },
    {
     "data": {
      "application/vnd.jupyter.widget-view+json": {
       "model_id": "9ad25b959c6343df8156fa62739dbd6f",
       "version_major": 2,
       "version_minor": 0
      },
      "text/plain": [
       "HBox(children=(IntProgress(value=0, max=469), HTML(value='')))"
      ]
     },
     "metadata": {},
     "output_type": "display_data"
    },
    {
     "data": {
      "application/vnd.jupyter.widget-view+json": {
       "model_id": "d2b95c81317345b7964d9f6e4f97a6e4",
       "version_major": 2,
       "version_minor": 0
      },
      "text/plain": [
       "HBox(children=(IntProgress(value=0, max=469), HTML(value='')))"
      ]
     },
     "metadata": {},
     "output_type": "display_data"
    },
    {
     "data": {
      "application/vnd.jupyter.widget-view+json": {
       "model_id": "d78b6e55e1a441b7807067d3afeee345",
       "version_major": 2,
       "version_minor": 0
      },
      "text/plain": [
       "HBox(children=(IntProgress(value=0, max=469), HTML(value='')))"
      ]
     },
     "metadata": {},
     "output_type": "display_data"
    },
    {
     "data": {
      "application/vnd.jupyter.widget-view+json": {
       "model_id": "bfae9571b1a644c49c1d8236bf3a04ae",
       "version_major": 2,
       "version_minor": 0
      },
      "text/plain": [
       "HBox(children=(IntProgress(value=0, max=469), HTML(value='')))"
      ]
     },
     "metadata": {},
     "output_type": "display_data"
    },
    {
     "name": "stdout",
     "output_type": "stream",
     "text": [
      "\n"
     ]
    },
    {
     "name": "stderr",
     "output_type": "stream",
     "text": [
      "Exception in thread Thread-4:\n",
      "Traceback (most recent call last):\n",
      "  File \"/opt/conda/lib/python3.6/threading.py\", line 916, in _bootstrap_inner\n",
      "    self.run()\n",
      "  File \"/opt/conda/lib/python3.6/site-packages/tqdm/_monitor.py\", line 62, in run\n",
      "    for instance in self.tqdm_cls._instances:\n",
      "  File \"/opt/conda/lib/python3.6/_weakrefset.py\", line 60, in __iter__\n",
      "    for itemref in self.data:\n",
      "RuntimeError: Set changed size during iteration\n",
      "\n"
     ]
    },
    {
     "data": {
      "application/vnd.jupyter.widget-view+json": {
       "model_id": "b6965fbf66c04c698c342187f2a017de",
       "version_major": 2,
       "version_minor": 0
      },
      "text/plain": [
       "HBox(children=(IntProgress(value=0, max=469), HTML(value='')))"
      ]
     },
     "metadata": {},
     "output_type": "display_data"
    },
    {
     "name": "stdout",
     "output_type": "stream",
     "text": [
      "\n"
     ]
    }
   ],
   "source": [
    "model.train()\n",
    "for epoch in range(num_epochs):\n",
    "    tq = tqdm(total=len(data_loader))\n",
    "    tq.set_description('Epoch {}'.format(epoch))\n",
    "    for i, (x, ind) in enumerate(data_loader):\n",
    "        # Forward pass\n",
    "        x = x.cuda()\n",
    "        x_reconst = model(ind)\n",
    "\n",
    "        loss = criterion(x_reconst, x)\n",
    "\n",
    "        optimizer.zero_grad()\n",
    "        loss.backward()\n",
    "        optimizer.step()\n",
    "        \n",
    "        tq.update()\n",
    "        tq.set_postfix(loss='{:.3f}'.format(loss.item()))          \n",
    "            \n",
    "    \n",
    "    with torch.no_grad():\n",
    "        # Visualize 2D latent space        \n",
    "        steps = 20\n",
    "        bound = 0.4\n",
    "        size = 28\n",
    "        out = torch.zeros(size=(steps * size, steps * size))\n",
    "\n",
    "        for i, l1 in enumerate(np.linspace(-bound, bound, steps)):\n",
    "            for j, l2 in enumerate(np.linspace(-bound, bound, steps)):\n",
    "                vector = torch.tensor([l1, l2]).cuda()\n",
    "                out_ = model.predict(vector)\n",
    "                out[i * size:(i + 1) * size, j * size:(j + 1) * size] = out_.view(size, size)\n",
    "        save_image(out, os.path.join(sample_dir, 'latent_space-{}.png'.format(epoch + 1)))"
   ]
  },
  {
   "cell_type": "code",
   "execution_count": 10,
   "metadata": {},
   "outputs": [
    {
     "data": {
      "text/plain": [
       "Parameter containing:\n",
       "tensor([[-0.1604, -0.0163],\n",
       "        [-0.3056,  0.1926],\n",
       "        [-0.0478,  0.0599],\n",
       "        ...,\n",
       "        [-0.1557, -0.1057],\n",
       "        [-0.0999, -0.0220],\n",
       "        [-0.0740, -0.1179]], device='cuda:0', requires_grad=True)"
      ]
     },
     "execution_count": 10,
     "metadata": {},
     "output_type": "execute_result"
    }
   ],
   "source": [
    "model.latent_vectors # just to check"
   ]
  },
  {
   "cell_type": "code",
   "execution_count": 11,
   "metadata": {},
   "outputs": [
    {
     "data": {
      "text/plain": [
       "(tensor(0.4014, device='cuda:0', grad_fn=<MaxBackward1>),\n",
       " tensor(-0.3995, device='cuda:0', grad_fn=<MinBackward1>))"
      ]
     },
     "execution_count": 11,
     "metadata": {},
     "output_type": "execute_result"
    }
   ],
   "source": [
    "model.latent_vectors.max(), model.latent_vectors.min()"
   ]
  },
  {
   "cell_type": "code",
   "execution_count": null,
   "metadata": {},
   "outputs": [],
   "source": []
  }
 ],
 "metadata": {
  "kernelspec": {
   "display_name": "Python 3",
   "language": "python",
   "name": "python3"
  },
  "language_info": {
   "codemirror_mode": {
    "name": "ipython",
    "version": 3
   },
   "file_extension": ".py",
   "mimetype": "text/x-python",
   "name": "python",
   "nbconvert_exporter": "python",
   "pygments_lexer": "ipython3",
   "version": "3.6.5"
  }
 },
 "nbformat": 4,
 "nbformat_minor": 2
}
